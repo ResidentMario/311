{
 "cells": [
  {
   "cell_type": "code",
   "execution_count": 1,
   "metadata": {
    "collapsed": true
   },
   "outputs": [],
   "source": [
    "import pandas as pd\n",
    "pd.set_option(\"max_columns\", None)\n",
    "import matplotlib.pyplot as plt\n",
    "import seaborn as sns\n",
    "import numpy as np\n",
    "%matplotlib inline"
   ]
  },
  {
   "cell_type": "markdown",
   "metadata": {},
   "source": [
    "The dataset under examination is the New York City Open Data Portal's [311 Service Requests](https://nycopendata.socrata.com/Social-Services/311-Service-Requests-from-2010-to-Present) dataset. This is a dataset of all 311 service requests going back to 2010, with daily updates along the way. Naturally six years of logging calls from citizens comes out to a lot of data: at time of writing the dataset contains over 14 million rows. This is more data, in fact, than is easily handled by computer.\n",
    "\n",
    "What I've done instead is use Socrata's built in filtering facility to select and download a subset of the dataset at large: just calls YTD in 2016. This is 11 1/2 months' worth of call data, more than enough to draw conclusions with. The name of the file that downloads, however, stays the same."
   ]
  },
  {
   "cell_type": "code",
   "execution_count": 2,
   "metadata": {
    "collapsed": false
   },
   "outputs": [
    {
     "name": "stderr",
     "output_type": "stream",
     "text": [
      "C:\\Users\\Alex\\Anaconda3\\envs\\311\\lib\\site-packages\\IPython\\core\\interactiveshell.py:2717: DtypeWarning: Columns (8,17,40,41,43,44,45,47,48,49) have mixed types. Specify dtype option on import or set low_memory=False.\n",
      "  interactivity=interactivity, compiler=compiler, result=result)\n"
     ]
    }
   ],
   "source": [
    "calls = pd.read_csv(\"../data/311_Service_Requests_from_2010_to_Present.csv\", index_col=0)"
   ]
  },
  {
   "cell_type": "code",
   "execution_count": 5,
   "metadata": {
    "collapsed": false
   },
   "outputs": [
    {
     "data": {
      "text/plain": [
       "('01/01/2016 01:00:00 PM', '12/31/2015 12:59:48 PM')"
      ]
     },
     "execution_count": 5,
     "metadata": {},
     "output_type": "execute_result"
    }
   ],
   "source": [
    "calls['Created Date'].min(), calls['Created Date'].max()"
   ]
  },
  {
   "cell_type": "markdown",
   "metadata": {},
   "source": [
    "For the data dictionary see `../data/`."
   ]
  },
  {
   "cell_type": "code",
   "execution_count": 6,
   "metadata": {
    "collapsed": false
   },
   "outputs": [
    {
     "data": {
      "text/html": [
       "<div>\n",
       "<table border=\"1\" class=\"dataframe\">\n",
       "  <thead>\n",
       "    <tr style=\"text-align: right;\">\n",
       "      <th></th>\n",
       "      <th>Created Date</th>\n",
       "      <th>Closed Date</th>\n",
       "      <th>Agency</th>\n",
       "      <th>Agency Name</th>\n",
       "      <th>Complaint Type</th>\n",
       "      <th>Descriptor</th>\n",
       "      <th>Location Type</th>\n",
       "      <th>Incident Zip</th>\n",
       "      <th>Incident Address</th>\n",
       "      <th>Street Name</th>\n",
       "      <th>Cross Street 1</th>\n",
       "      <th>Cross Street 2</th>\n",
       "      <th>Intersection Street 1</th>\n",
       "      <th>Intersection Street 2</th>\n",
       "      <th>Address Type</th>\n",
       "      <th>City</th>\n",
       "      <th>Landmark</th>\n",
       "      <th>Facility Type</th>\n",
       "      <th>Status</th>\n",
       "      <th>Due Date</th>\n",
       "      <th>Resolution Description</th>\n",
       "      <th>Resolution Action Updated Date</th>\n",
       "      <th>Community Board</th>\n",
       "      <th>Borough</th>\n",
       "      <th>X Coordinate (State Plane)</th>\n",
       "      <th>Y Coordinate (State Plane)</th>\n",
       "      <th>Park Facility Name</th>\n",
       "      <th>Park Borough</th>\n",
       "      <th>School Name</th>\n",
       "      <th>School Number</th>\n",
       "      <th>School Region</th>\n",
       "      <th>School Code</th>\n",
       "      <th>School Phone Number</th>\n",
       "      <th>School Address</th>\n",
       "      <th>School City</th>\n",
       "      <th>School State</th>\n",
       "      <th>School Zip</th>\n",
       "      <th>School Not Found</th>\n",
       "      <th>School or Citywide Complaint</th>\n",
       "      <th>Vehicle Type</th>\n",
       "      <th>Taxi Company Borough</th>\n",
       "      <th>Taxi Pick Up Location</th>\n",
       "      <th>Bridge Highway Name</th>\n",
       "      <th>Bridge Highway Direction</th>\n",
       "      <th>Road Ramp</th>\n",
       "      <th>Bridge Highway Segment</th>\n",
       "      <th>Garage Lot Name</th>\n",
       "      <th>Ferry Direction</th>\n",
       "      <th>Ferry Terminal Name</th>\n",
       "      <th>Latitude</th>\n",
       "      <th>Longitude</th>\n",
       "      <th>Location</th>\n",
       "    </tr>\n",
       "    <tr>\n",
       "      <th>Unique Key</th>\n",
       "      <th></th>\n",
       "      <th></th>\n",
       "      <th></th>\n",
       "      <th></th>\n",
       "      <th></th>\n",
       "      <th></th>\n",
       "      <th></th>\n",
       "      <th></th>\n",
       "      <th></th>\n",
       "      <th></th>\n",
       "      <th></th>\n",
       "      <th></th>\n",
       "      <th></th>\n",
       "      <th></th>\n",
       "      <th></th>\n",
       "      <th></th>\n",
       "      <th></th>\n",
       "      <th></th>\n",
       "      <th></th>\n",
       "      <th></th>\n",
       "      <th></th>\n",
       "      <th></th>\n",
       "      <th></th>\n",
       "      <th></th>\n",
       "      <th></th>\n",
       "      <th></th>\n",
       "      <th></th>\n",
       "      <th></th>\n",
       "      <th></th>\n",
       "      <th></th>\n",
       "      <th></th>\n",
       "      <th></th>\n",
       "      <th></th>\n",
       "      <th></th>\n",
       "      <th></th>\n",
       "      <th></th>\n",
       "      <th></th>\n",
       "      <th></th>\n",
       "      <th></th>\n",
       "      <th></th>\n",
       "      <th></th>\n",
       "      <th></th>\n",
       "      <th></th>\n",
       "      <th></th>\n",
       "      <th></th>\n",
       "      <th></th>\n",
       "      <th></th>\n",
       "      <th></th>\n",
       "      <th></th>\n",
       "      <th></th>\n",
       "      <th></th>\n",
       "      <th></th>\n",
       "    </tr>\n",
       "  </thead>\n",
       "  <tbody>\n",
       "  </tbody>\n",
       "</table>\n",
       "</div>"
      ],
      "text/plain": [
       "Empty DataFrame\n",
       "Columns: [Created Date, Closed Date, Agency, Agency Name, Complaint Type, Descriptor, Location Type, Incident Zip, Incident Address, Street Name, Cross Street 1, Cross Street 2, Intersection Street 1, Intersection Street 2, Address Type, City, Landmark, Facility Type, Status, Due Date, Resolution Description, Resolution Action Updated Date, Community Board, Borough, X Coordinate (State Plane), Y Coordinate (State Plane), Park Facility Name, Park Borough, School Name, School Number, School Region, School Code, School Phone Number, School Address, School City, School State, School Zip, School Not Found, School or Citywide Complaint, Vehicle Type, Taxi Company Borough, Taxi Pick Up Location, Bridge Highway Name, Bridge Highway Direction, Road Ramp, Bridge Highway Segment, Garage Lot Name, Ferry Direction, Ferry Terminal Name, Latitude, Longitude, Location]\n",
       "Index: []"
      ]
     },
     "execution_count": 6,
     "metadata": {},
     "output_type": "execute_result"
    }
   ],
   "source": [
    "calls.head(0)"
   ]
  },
  {
   "cell_type": "markdown",
   "metadata": {},
   "source": [
    "Due to the way that `pandas` operates, created date and closed date are saved as strings, which we will have to convert ourselves to datetime objects if we want to work with them. This is a quite slow operation, so we'll omit doing so for the moment."
   ]
  },
  {
   "cell_type": "code",
   "execution_count": 11,
   "metadata": {
    "collapsed": false
   },
   "outputs": [],
   "source": [
    "# calls['Created Date'] = pd.to_datetime(calls['Created Date'])\n",
    "# calls['Closed Date'] = pd.to_datetime(calls['Created Date'])"
   ]
  },
  {
   "cell_type": "code",
   "execution_count": 12,
   "metadata": {
    "collapsed": false
   },
   "outputs": [
    {
     "data": {
      "text/plain": [
       "NYPD      636058\n",
       "HPD       542295\n",
       "DOT       261397\n",
       "DEP       189581\n",
       "DSNY      157782\n",
       "DPR        96235\n",
       "DOB        84136\n",
       "DOF        67549\n",
       "DOHMH      63476\n",
       "DHS        43947\n",
       "TLC        24349\n",
       "HRA        24060\n",
       "DCA        17771\n",
       "DFTA        8721\n",
       "FDNY        6740\n",
       "DOE         1661\n",
       "3-1-1       1301\n",
       "DOITT       1287\n",
       "EDC          983\n",
       "CHALL        711\n",
       "ACS          209\n",
       "NYCEM        136\n",
       "DORIS         67\n",
       "DCP           64\n",
       "DOP           35\n",
       "OATH          30\n",
       "COIB          11\n",
       "OPS            9\n",
       "NYCHA          9\n",
       "MOIA           8\n",
       "CCRB           3\n",
       "MOPD           3\n",
       "LAW            2\n",
       "DCLA           2\n",
       "CAU            2\n",
       "OPA            2\n",
       "SBS            2\n",
       "OCHIA          2\n",
       "OCME           2\n",
       "MOVA           2\n",
       "AJC            2\n",
       "MOFTB          1\n",
       "NYCERS         1\n",
       "EMTF           1\n",
       "DOC            1\n",
       "NYCPPF         1\n",
       "IA             1\n",
       "LOFT           1\n",
       "NYCOOA         1\n",
       "DYCD           1\n",
       "TAT            1\n",
       "Name: Agency, dtype: int64"
      ]
     },
     "execution_count": 12,
     "metadata": {},
     "output_type": "execute_result"
    }
   ],
   "source": [
    "calls['Agency'].value_counts()"
   ]
  },
  {
   "cell_type": "code",
   "execution_count": 13,
   "metadata": {
    "collapsed": false
   },
   "outputs": [
    {
     "data": {
      "text/plain": [
       "New York City Police Department                                                  636033\n",
       "Department of Housing Preservation and Development                               542294\n",
       "Department of Transportation                                                     261394\n",
       "Department of Environmental Protection                                           189318\n",
       "Department of Parks and Recreation                                                94537\n",
       "Department of Buildings                                                           84134\n",
       "Department of Health and Mental Hygiene                                           61916\n",
       "Operations Unit - Department of Homeless Services                                 43907\n",
       "Department of Finance                                                             27439\n",
       "Taxi and Limousine Commission                                                     23912\n",
       "HRA Benefit Card Replacement                                                      23771\n",
       "BCC - Brooklyn South                                                              18476\n",
       "Department of Consumer Affairs                                                    17767\n",
       "Department of Sanitation                                                          15528\n",
       "BCC - Brooklyn North                                                              14541\n",
       "A - Brooklyn                                                                      10850\n",
       "BCC - Queens East                                                                 10353\n",
       "BCC - Staten Island                                                               10134\n",
       "A - Queens                                                                         9812\n",
       "Department for the Aging                                                           8088\n",
       "Correspondence Unit                                                                7847\n",
       "BCC - Queens West                                                                  7452\n",
       "Senior Citizen Rent Increase Exemption Unit                                        6290\n",
       "Land Records                                                                       6168\n",
       "BCC - Bronx                                                                        5714\n",
       "Personal Exemption Unit                                                            5630\n",
       "Bureau of Fire Prevention - Highrise Unit - Inspections                            5613\n",
       "Queens East 12                                                                     5480\n",
       "Refunds and Adjustments                                                            5158\n",
       "A - Manhattan                                                                      5026\n",
       "                                                                                  ...  \n",
       "School - Elm Tree Elementary School                                                   1\n",
       "School - Brooklyn Lab School                                                          1\n",
       "School - PS 197 John B Russwurm                                                       1\n",
       "School - PS 20 Port Richmond                                                          1\n",
       "School - Harlem Children's Zone Promise Academy 1 Charter School                      1\n",
       "School - Queens Collegiate: A College Board School                                    1\n",
       "School - Richmond Hill High School                                                    1\n",
       "School - PS 199 Maurice A Fitzgerald                                                  1\n",
       "School - Grover Cleveland High School                                                 1\n",
       "School - PS 165 Ida Posner                                                            1\n",
       "School - PS 133 William A Butler                                                      1\n",
       "School - IS 059 Springfield Gardens                                                   1\n",
       "School - University Heights Secondary School                                          1\n",
       "School - PS 48 Joseph R Drake                                                         1\n",
       "School - Amber Charter School                                                         1\n",
       "School - JHS 123 James M Kieran                                                       1\n",
       "School - The Marie Curie School for Medicine, Nursing, and Health Professions         1\n",
       "School - PS 39 Henry Bristow                                                          1\n",
       "School - Evergreen Middle School for Urban Exploration                                1\n",
       "School - PS 87 William Sherman                                                        1\n",
       "School - Innovation Diploma Plus                                                      1\n",
       "School - PS 380 John Wayne Elementary                                                 1\n",
       "School - PS 152 Gwendoline N Alleyne School                                           1\n",
       "School - PS 30 Queens                                                                 1\n",
       "School - PS 21 Edward Hart                                                            1\n",
       "School - PS 288 The Shirley Tanyhill                                                  1\n",
       "School - PS 185 The Early Childhood Discovery and Design Magnet School                1\n",
       "School - IS 238 Susan B Anthony Academy                                               1\n",
       "School - PS 51 Bronx New School                                                       1\n",
       "School - PS 26 Rufus King                                                             1\n",
       "Name: Agency Name, dtype: int64"
      ]
     },
     "execution_count": 13,
     "metadata": {},
     "output_type": "execute_result"
    }
   ],
   "source": [
    "calls['Agency Name'].value_counts()"
   ]
  },
  {
   "cell_type": "code",
   "execution_count": 14,
   "metadata": {
    "collapsed": false
   },
   "outputs": [
    {
     "data": {
      "text/plain": [
       "Noise - Residential                  209823\n",
       "HEAT/HOT WATER                       195258\n",
       "Illegal Parking                      115522\n",
       "Blocked Driveway                     111245\n",
       "Street Condition                      86869\n",
       "Street Light Condition                84642\n",
       "UNSANITARY CONDITION                  76314\n",
       "Water System                          70430\n",
       "Noise - Street/Sidewalk               59729\n",
       "PAINT/PLASTER                         56833\n",
       "Noise                                 56179\n",
       "PLUMBING                              48655\n",
       "Noise - Commercial                    46433\n",
       "Homeless Person Assistance            43909\n",
       "Traffic Signal Condition              35184\n",
       "DOOR/WINDOW                           35020\n",
       "Sanitation Condition                  33547\n",
       "Dirty Conditions                      32608\n",
       "Sewer                                 31641\n",
       "Rodent                                30184\n",
       "WATER LEAK                            29988\n",
       "General Construction/Plumbing         28794\n",
       "Missed Collection (All Materials)     28145\n",
       "Derelict Vehicle                      27655\n",
       "DOF Literature Request                27439\n",
       "Derelict Vehicles                     26593\n",
       "ELECTRIC                              26235\n",
       "Building/Use                          26144\n",
       "GENERAL                               25103\n",
       "Benefit Card Replacement              23772\n",
       "                                      ...  \n",
       "Advocate-Prop Refunds/Credits            10\n",
       "Standpipe - Mechanical                    9\n",
       "Radioactive Material                      9\n",
       "Calorie Labeling                          9\n",
       "ATF                                       9\n",
       "Advocate-Property Value                   7\n",
       "Hazmat Storage/Use                        6\n",
       "Squeegee                                  5\n",
       "Advocate-UBT                              5\n",
       "SRDE                                      5\n",
       "Public Assembly - Temporary               5\n",
       "Healthcare Facilities                     5\n",
       "NORC Complaint                            4\n",
       "Interior Demo                             3\n",
       "Trans Fat                                 3\n",
       "Request Xmas Tree Collection              3\n",
       "Advocate-Commercial Exemptions            3\n",
       "Advocate-SCRIE/DRIE                       2\n",
       "Construction                              2\n",
       "AGENCY                                    2\n",
       "Laboratory                                2\n",
       "VACANT APARTMENT                          2\n",
       "Advocate-Business Tax                     2\n",
       "Trapping Pigeon                           1\n",
       "Gas Station Discharge Lines               1\n",
       "Asbestos/Garbage Nuisance                 1\n",
       "Building Condition                        1\n",
       "LEAD                                      1\n",
       "Advocate - RPIE                           1\n",
       "MOLD                                      1\n",
       "Name: Complaint Type, dtype: int64"
      ]
     },
     "execution_count": 14,
     "metadata": {},
     "output_type": "execute_result"
    }
   ],
   "source": [
    "calls['Complaint Type'].value_counts()"
   ]
  },
  {
   "cell_type": "code",
   "execution_count": 16,
   "metadata": {
    "collapsed": false
   },
   "outputs": [
    {
     "data": {
      "text/plain": [
       "Loud Music/Party                                               214492\n",
       "ENTIRE BUILDING                                                129235\n",
       "No Access                                                       82016\n",
       "Street Light Out                                                66310\n",
       "APARTMENT ONLY                                                  66023\n",
       "Banging/Pounding                                                60970\n",
       "Pothole                                                         53379\n",
       "Loud Talking                                                    39296\n",
       "PESTS                                                           38862\n",
       "Posted Parking Sign Violation                                   33041\n",
       "Partial Access                                                  29229\n",
       "Blocked Hydrant                                                 28631\n",
       "WALL                                                            28605\n",
       "With License Plate                                              27655\n",
       "Noise: Construction Before/After Hours (NM1)                    27445\n",
       "14 Derelict Vehicles                                            26593\n",
       "CEILING                                                         26097\n",
       "MOLD                                                            22414\n",
       "15 Street Cond/Dump-Out/Drop-Off                                22281\n",
       "FLOOR                                                           22070\n",
       "Driver Complaint                                                18918\n",
       "Blocked Sidewalk                                                17878\n",
       "For One Address                                                 17581\n",
       "Controller                                                      17232\n",
       "Illegal Conversion Of Residential Building/Space                17062\n",
       "Rat Sighting                                                    16580\n",
       "DOOR                                                            16404\n",
       "Commercial Overnight Parking                                    15448\n",
       "Car/Truck Music                                                 14396\n",
       "HEAVY FLOW                                                      14180\n",
       "                                                                ...  \n",
       "Advice Request                                                      1\n",
       "Lack of Safety Equipment                                            1\n",
       "Crack Sealing                                                       1\n",
       "Ready NY - French - Full Size                                       1\n",
       "Ready NY My Emergency Plan - Traditional Chinese                    1\n",
       "Cigarette Vending Machine                                           1\n",
       "Dealer in Devices for Disabled License                              1\n",
       "Flavored Tobacco                                                    1\n",
       "Paid Sick Leave Sheet for Employers - Spanish                       1\n",
       "Best Practices                                                      1\n",
       "Legalization Deadline Extension Application                         1\n",
       "Inaccurate Meter                                                    1\n",
       "Portable Amusement Ride License                                     1\n",
       "Sediment                                                            1\n",
       "Amusement Arcade License                                            1\n",
       "2016 Alternate Side Parking Calendar - Bengali                      1\n",
       "Marine Globe                                                        1\n",
       "Tech List                                                           1\n",
       "Immigrant Service Provider Law Guide - Korean                       1\n",
       "Commercial Rent Tax-Other                                           1\n",
       "Unrequested Services Provided                                       1\n",
       "Medical Gas - Distr - New                                           1\n",
       "RPIE - Filing and Technical Issues                                  1\n",
       "Medical Gas - Distr - Modif                                         1\n",
       "Application for Disability Rent Increase Exemption - Creole         1\n",
       "Ready New York                                                      1\n",
       "Available Requests for Proposals                                    1\n",
       "Missing Complaint Sign                                              1\n",
       "Unincorporated Business Tax - Other                                 1\n",
       "Tow Truck Company License                                           1\n",
       "Name: Descriptor, dtype: int64"
      ]
     },
     "execution_count": 16,
     "metadata": {},
     "output_type": "execute_result"
    }
   ],
   "source": [
    "calls['Descriptor'].value_counts()"
   ]
  },
  {
   "cell_type": "code",
   "execution_count": 17,
   "metadata": {
    "collapsed": false
   },
   "outputs": [
    {
     "data": {
      "text/plain": [
       "RESIDENTIAL BUILDING             538917\n",
       "Street/Sidewalk                  379179\n",
       "Residential Building/House       222832\n",
       "Street                           199453\n",
       "Sidewalk                          90527\n",
       "Store/Commercial                  36994\n",
       "Club/Bar/Restaurant               21043\n",
       "NYC Street Address                21007\n",
       "Park                              18580\n",
       "Property Address                  17778\n",
       "Senior Address                    14219\n",
       "3+ Family Apt. Building           13597\n",
       "Restaurant/Bar/Deli/Bakery        11663\n",
       "1-2 Family Dwelling               10507\n",
       "Park/Playground                    8799\n",
       "Lot                                8649\n",
       "Street Address                     6330\n",
       "Other (Explain Below)              5517\n",
       "3+ Family Apartment Building       5248\n",
       "Mixed Use                          4978\n",
       "Other                              4944\n",
       "Highway                            4193\n",
       "1-, 2- and 3- Family Home          3613\n",
       "Comercial                          3400\n",
       "Commercial Building                3184\n",
       "Co-Op Unit                         3110\n",
       "Curb                               2697\n",
       "Address Outside of NYC             2381\n",
       "Residential Building               2369\n",
       "House of Worship                   2287\n",
       "                                  ...  \n",
       "Sauna                                11\n",
       "School - K-12 Public                 10\n",
       "Lobby                                10\n",
       "Groomer                              10\n",
       "Airport or Train/Bus Station         10\n",
       "Nursing Home                         10\n",
       "Store                                 9\n",
       "Common Area                           8\n",
       "Wooded Area                           8\n",
       "Tanning Salon                         8\n",
       "Homeless Shelter                      7\n",
       "Summer Camp                           6\n",
       "Petting Zoo/Animal Exhibit            6\n",
       "Correctional Facility - City          5\n",
       "Vacant Land                           5\n",
       "Theater                               4\n",
       "Grocery Store                         4\n",
       "Steam Room                            3\n",
       "Sports Arena                          3\n",
       "Permanent Food Stand                  3\n",
       "Cafeteria - Private                   3\n",
       "Doctor's Office                       3\n",
       "School - K-12 Private                 2\n",
       "Dentist's Office                      2\n",
       "Catering Hall                         2\n",
       "Correctional Facility - State         2\n",
       "Horse Stable                          1\n",
       "1-3 Family Mixed Use Building         1\n",
       "Nail Salon                            1\n",
       "Building                              1\n",
       "Name: Location Type, dtype: int64"
      ]
     },
     "execution_count": 17,
     "metadata": {},
     "output_type": "execute_result"
    }
   ],
   "source": [
    "calls['Location Type'].value_counts()"
   ]
  },
  {
   "cell_type": "code",
   "execution_count": 19,
   "metadata": {
    "collapsed": false
   },
   "outputs": [
    {
     "data": {
      "text/plain": [
       "11226.0       21078\n",
       "10467.0       18303\n",
       "10453.0       17122\n",
       "10458.0       16315\n",
       "11207.0       15754\n",
       "10468.0       15343\n",
       "11385.0       15216\n",
       "10452.0       14979\n",
       "10031.0       14687\n",
       "10456.0       14581\n",
       "11226         14558\n",
       "11208.0       14500\n",
       "11221.0       14399\n",
       "10457.0       13979\n",
       "10472.0       13141\n",
       "11216.0       12828\n",
       "11213.0       12502\n",
       "10032.0       12385\n",
       "11233.0       12346\n",
       "11225.0       12328\n",
       "11234.0       12320\n",
       "10467         12014\n",
       "11212.0       11923\n",
       "10033.0       11735\n",
       "10025.0       11544\n",
       "10040.0       11535\n",
       "11203.0       11500\n",
       "10462.0       11450\n",
       "11220.0       11344\n",
       "11230.0       11328\n",
       "              ...  \n",
       "11722.0           1\n",
       "11459.0           1\n",
       "11452.0           1\n",
       "11572             1\n",
       "92584.0           1\n",
       "30374-0283        1\n",
       "98046-1548        1\n",
       "11725             1\n",
       "06870             1\n",
       "97114.0           1\n",
       "06902             1\n",
       "89120-6224        1\n",
       "10008             1\n",
       "92660.0           1\n",
       "92626.0           1\n",
       "92618.0           1\n",
       "92193.0           1\n",
       "48393-1022        1\n",
       "10023-6349        1\n",
       "91360.0           1\n",
       "90630.0           1\n",
       "92562             1\n",
       "10008-378         1\n",
       "90274.0           1\n",
       "07201             1\n",
       "10152             1\n",
       "12553             1\n",
       "85351.0           1\n",
       "84130.0           1\n",
       "32809.0           1\n",
       "Name: Incident Zip, dtype: int64"
      ]
     },
     "execution_count": 19,
     "metadata": {},
     "output_type": "execute_result"
    }
   ],
   "source": [
    "calls['Incident Zip'].value_counts()"
   ]
  },
  {
   "cell_type": "code",
   "execution_count": 20,
   "metadata": {
    "collapsed": false,
    "scrolled": false
   },
   "outputs": [
    {
     "data": {
      "text/plain": [
       "1025 BOYNTON AVENUE         3087\n",
       "56 MONUMENT WALK            3086\n",
       "89-21 ELMHURST AVENUE       2007\n",
       "159-06 UNION TURNPIKE       1268\n",
       "2181 BARNES AVENUE          1221\n",
       "34 ARDEN STREET             1143\n",
       "1207 BEACH AVENUE           1141\n",
       "2090 EAST TREMONT AVENUE     926\n",
       "80 MONUMENT WALK             903\n",
       "3451 GILES PLACE             888\n",
       "BROADWAY                     856\n",
       "3607 BROADWAY                839\n",
       "888 GRAND CONCOURSE          735\n",
       "2350 BEAUMONT AVENUE         697\n",
       "140 BRADHURST AVENUE         672\n",
       "843 60 STREET                672\n",
       "109 NORTH    7 STREET        658\n",
       "223 LINDEN BOULEVARD         626\n",
       "750 GRAND CONCOURSE          602\n",
       "2913 FOSTER AVENUE           601\n",
       "1711 FULTON STREET           592\n",
       "30 BUCHANAN PLACE            591\n",
       "398 MORGAN AVENUE            581\n",
       "608 DEGRAW STREET            574\n",
       "3 AVENUE                     559\n",
       "95 HALSEY STREET             548\n",
       "177 LAREDO AVENUE            545\n",
       "1030 BOYNTON AVENUE          540\n",
       "2251 HOLLAND AVENUE          539\n",
       "15 EAST 199 STREET           520\n",
       "                            ... \n",
       "87-18 91 AVENUE                1\n",
       "945 EAST    8 STREET           1\n",
       "50 WEST 126 STREET             1\n",
       "86-13 97 AVENUE                1\n",
       "97 RAMONA AVENUE               1\n",
       "51-27 48 STREET                1\n",
       "49-01 104 STREET               1\n",
       "19-02 147 STREET               1\n",
       "221-37 114 ROAD                1\n",
       "1328 EAST 89 STREET            1\n",
       "108 MORNINGSIDE AVENUE         1\n",
       "BEACH 38 STREET                1\n",
       "5 EAST 181 STREET              1\n",
       "87 BOND STREET                 1\n",
       "41 1 STREET                    1\n",
       "571 EAST 139 STREET            1\n",
       "357A BRISTOL STREET            1\n",
       "2380 BOYNTON PLACE             1\n",
       "828 64 STREET                  1\n",
       "1238 LAFAYETTE AVENUE          1\n",
       "906 EAST 39 STREET             1\n",
       "2993 ZULETTE AVENUE            1\n",
       "14-19 31 ROAD                  1\n",
       "28-60 31 STREET                1\n",
       "868 EAST    8 STREET           1\n",
       "529 UTICA AVENUE               1\n",
       "495 EAST 166 STREET            1\n",
       "3408 BROADWAY                  1\n",
       "580 TIMPSON PLACE              1\n",
       "216-05 17 AVENUE               1\n",
       "Name: Incident Address, dtype: int64"
      ]
     },
     "execution_count": 20,
     "metadata": {},
     "output_type": "execute_result"
    }
   ],
   "source": [
    "calls['Incident Address'].value_counts()"
   ]
  },
  {
   "cell_type": "code",
   "execution_count": 22,
   "metadata": {
    "collapsed": false
   },
   "outputs": [
    {
     "data": {
      "text/plain": [
       "BROADWAY                  26793\n",
       "GRAND CONCOURSE           12296\n",
       "5 AVENUE                   8898\n",
       "OCEAN AVENUE               8109\n",
       "AMSTERDAM AVENUE           7918\n",
       "3 AVENUE                   7795\n",
       "MORRIS AVENUE              6315\n",
       "2 AVENUE                   5993\n",
       "LEXINGTON AVENUE           5889\n",
       "ST NICHOLAS AVENUE         5506\n",
       "7 AVENUE                   5411\n",
       "1 AVENUE                   5401\n",
       "WALTON AVENUE              5286\n",
       "OCEAN PARKWAY              5219\n",
       "LINDEN BOULEVARD           5080\n",
       "8 AVENUE                   5032\n",
       "NOSTRAND AVENUE            5028\n",
       "BOYNTON AVENUE             4872\n",
       "BEDFORD AVENUE             4772\n",
       "FULTON STREET              4359\n",
       "PARK AVENUE                4311\n",
       "SHERMAN AVENUE             4073\n",
       "WASHINGTON AVENUE          4044\n",
       "MONUMENT WALK              4030\n",
       "EASTERN PARKWAY            3921\n",
       "RIVERSIDE DRIVE            3911\n",
       "4 AVENUE                   3871\n",
       "FLATBUSH AVENUE            3865\n",
       "ATLANTIC AVENUE            3860\n",
       "JAMAICA AVENUE             3831\n",
       "                          ...  \n",
       "CANNON PL                     1\n",
       "189TH ST                      1\n",
       "84TH AVE                      1\n",
       "JERICHO PKWY                  1\n",
       "SHAKESPEAR AVE                1\n",
       "74TH AVE                      1\n",
       "PLGD                          1\n",
       "POWELLS COVE                  1\n",
       "W 7TH ST                      1\n",
       "42 AVE                        1\n",
       "PIER 15                       1\n",
       "1057 BOYNTON AV               1\n",
       "CLAREDON ROAD                 1\n",
       "STEUBEN AVE                   1\n",
       "MAY MATTHEWS PLGD             1\n",
       "KINGSBDGE ROAD EAST           1\n",
       "VIRGINA AVENUE                1\n",
       "A PHILLIP RANDOLPH ST         1\n",
       "MILL BROOK HOUSES PLGD        1\n",
       "FORT HAMILTON PARK            1\n",
       "121ST ST                      1\n",
       "161ST AVENUE                  1\n",
       "MEAGHER AVE                   1\n",
       "HARNED ST                     1\n",
       "FILMORE STREET                1\n",
       "HAMMARSKJOLD PLAZA            1\n",
       "BEACH   16 STREET             1\n",
       "EAST  229 DRIVE SOUTH         1\n",
       "B   46 STREET                 1\n",
       "PLGD TRATMAN                  1\n",
       "Name: Street Name, dtype: int64"
      ]
     },
     "execution_count": 22,
     "metadata": {},
     "output_type": "execute_result"
    }
   ],
   "source": [
    "calls['Street Name'].value_counts()"
   ]
  },
  {
   "cell_type": "code",
   "execution_count": 24,
   "metadata": {
    "collapsed": false
   },
   "outputs": [
    {
     "data": {
      "text/plain": [
       "ADDRESS         1724564\n",
       "INTERSECTION     312718\n",
       "BLOCKFACE         59412\n",
       "LATLONG           26515\n",
       "PLACENAME           540\n",
       "Name: Address Type, dtype: int64"
      ]
     },
     "execution_count": 24,
     "metadata": {},
     "output_type": "execute_result"
    }
   ],
   "source": [
    "calls['Address Type'].value_counts()"
   ]
  },
  {
   "cell_type": "code",
   "execution_count": 25,
   "metadata": {
    "collapsed": false
   },
   "outputs": [
    {
     "data": {
      "text/plain": [
       "BROOKLYN               646771\n",
       "NEW YORK               471683\n",
       "BRONX                  391334\n",
       "STATEN ISLAND          100802\n",
       "Jamaica                 26980\n",
       "JAMAICA                 23308\n",
       "Flushing                19519\n",
       "FLUSHING                19079\n",
       "ASTORIA                 18088\n",
       "Astoria                 16494\n",
       "RIDGEWOOD               14724\n",
       "Ridgewood               11404\n",
       "CORONA                  10454\n",
       "Far Rockaway             9529\n",
       "WOODSIDE                 8395\n",
       "Elmhurst                 8301\n",
       "OZONE PARK               8207\n",
       "Woodside                 8061\n",
       "Corona                   7959\n",
       "ELMHURST                 7879\n",
       "LONG ISLAND CITY         7813\n",
       "EAST ELMHURST            7630\n",
       "Ozone Park               7413\n",
       "Long Island City         7145\n",
       "SOUTH RICHMOND HILL      7094\n",
       "Forest Hills             6851\n",
       "SOUTH OZONE PARK         6744\n",
       "QUEENS VILLAGE           6601\n",
       "Queens Village           6514\n",
       "FRESH MEADOWS            6471\n",
       "                        ...  \n",
       "BRONX HILL ROAD             1\n",
       "N BERGEN                    1\n",
       "GLEN HEAD                   1\n",
       "NEW JERSY                   1\n",
       "SAN FRANCISCO               1\n",
       "BEAR                        1\n",
       "EAST ATLANTIC BEACH         1\n",
       "WAPPINGER FALLS             1\n",
       "WOOD LAND HILLS             1\n",
       "LINBROOK                    1\n",
       "INGLEWOOD                   1\n",
       "NORTH BELLMORE              1\n",
       "SANDIEGO                    1\n",
       "CO OP CITY                  1\n",
       "SALT LAKE CITY              1\n",
       "ASBURY PARK                 1\n",
       "JERSEY AVE                  1\n",
       "SPRING VALLEY               1\n",
       "WIXON                       1\n",
       "SHORT HILLS                 1\n",
       "PELHAM MANOR                1\n",
       "CARLE   PL                  1\n",
       "JAMESTOWN                   1\n",
       "WOODCLIFF LAKE              1\n",
       "AURORA                      1\n",
       "BISON                       1\n",
       "PERTHAMDOY                  1\n",
       "QNS                         1\n",
       "NEW BRUNSWICK               1\n",
       "CRANBERRY                   1\n",
       "Name: City, dtype: int64"
      ]
     },
     "execution_count": 25,
     "metadata": {},
     "output_type": "execute_result"
    }
   ],
   "source": [
    "calls['City'].value_counts()"
   ]
  },
  {
   "cell_type": "code",
   "execution_count": 26,
   "metadata": {
    "collapsed": false
   },
   "outputs": [
    {
     "data": {
      "text/plain": [
       "CENTRAL PARK                       68\n",
       "J F K AIRPORT                      59\n",
       "LA GUARDIA AIRPORT                 39\n",
       "PROSPECT PARK                      25\n",
       "CITI FIELD                         24\n",
       "UNION SQUARE PARK                  17\n",
       "MEADOW LAKE                        15\n",
       "SUNSET PARK                        11\n",
       "CONEY ISLAND HOSPITAL              11\n",
       "GRAND ARMY PLAZA                   10\n",
       "PENNSYLVANIA STATION                9\n",
       "WORLDS FAIR MARINA                  8\n",
       "FERRY TERMINAL                      7\n",
       "YANKEE STADIUM                      7\n",
       "CITIFIELD                           7\n",
       "CITY HALL                           6\n",
       "RIVERSIDE PARK                      5\n",
       "FORT WADSWORTH                      5\n",
       "WASHINGTON SQUARE PARK              5\n",
       "MUSEUM NATURAL HIST                 5\n",
       "BRONX ZOO                           5\n",
       "BROOKLYN COLLEGE                    5\n",
       "PARACHUTE JUMP                      5\n",
       "GRAND CENTRAL TERM                  5\n",
       "BARCLAYS CENTER                     4\n",
       "BKLYN PUBLIC LIBRARY CTR BRANCH     4\n",
       "LEHMAN COLLEGE                      4\n",
       "QUEENS HOSPITAL CENTER              4\n",
       "FLUSHING MEADOW PARK                4\n",
       "FLUSHING MEADOW CORONA PARK         4\n",
       "                                   ..\n",
       "COLLEGE OF SI                       1\n",
       "FORDHAM UNIVERSITY                  1\n",
       "CARL SCHURZ PARK                    1\n",
       "JOHN F KENNEDY AIRPORT              1\n",
       "RIIS PARK                           1\n",
       "RAPPAPORT PLAYGROUND                1\n",
       "FORT GREENE PARK                    1\n",
       "PIER 2                              1\n",
       "STARLIGHT PARK                      1\n",
       "SOUTH BEACH                         1\n",
       "CHELSEA PARK                        1\n",
       "FLUSHING BAY                        1\n",
       "WASHINGTON SQUARE                   1\n",
       "J HOOD WRIGHT PARK                  1\n",
       "BRYANT PARK                         1\n",
       "SHELL BANK BASIN                    1\n",
       "BUSHWICK POOL                       1\n",
       "BROOKLYN BATTERY TUNNEL             1\n",
       "ISHAM PARK                          1\n",
       "CUYLER GORE                         1\n",
       "CYCLONE                             1\n",
       "PS 69                               1\n",
       "THEODORE ROOSEVELT PARK             1\n",
       "WAGNER COLLEGE                      1\n",
       "HUGH CAREY TUNNEL                   1\n",
       "PS 124                              1\n",
       "KINGS COUNTY HOSPITAL               1\n",
       "MS 180                              1\n",
       "JOHN JAY PARK                       1\n",
       "PS 90                               1\n",
       "Name: Landmark, dtype: int64"
      ]
     },
     "execution_count": 26,
     "metadata": {},
     "output_type": "execute_result"
    }
   ],
   "source": [
    "calls['Landmark'].value_counts()"
   ]
  },
  {
   "cell_type": "code",
   "execution_count": 27,
   "metadata": {
    "collapsed": false
   },
   "outputs": [
    {
     "data": {
      "text/html": [
       "<div>\n",
       "<table border=\"1\" class=\"dataframe\">\n",
       "  <thead>\n",
       "    <tr style=\"text-align: right;\">\n",
       "      <th></th>\n",
       "      <th>Created Date</th>\n",
       "      <th>Closed Date</th>\n",
       "      <th>Agency</th>\n",
       "      <th>Agency Name</th>\n",
       "      <th>Complaint Type</th>\n",
       "      <th>Descriptor</th>\n",
       "      <th>Location Type</th>\n",
       "      <th>Incident Zip</th>\n",
       "      <th>Incident Address</th>\n",
       "      <th>Street Name</th>\n",
       "      <th>Cross Street 1</th>\n",
       "      <th>Cross Street 2</th>\n",
       "      <th>Intersection Street 1</th>\n",
       "      <th>Intersection Street 2</th>\n",
       "      <th>Address Type</th>\n",
       "      <th>City</th>\n",
       "      <th>Landmark</th>\n",
       "      <th>Facility Type</th>\n",
       "      <th>Status</th>\n",
       "      <th>Due Date</th>\n",
       "      <th>Resolution Description</th>\n",
       "      <th>Resolution Action Updated Date</th>\n",
       "      <th>Community Board</th>\n",
       "      <th>Borough</th>\n",
       "      <th>X Coordinate (State Plane)</th>\n",
       "      <th>Y Coordinate (State Plane)</th>\n",
       "      <th>Park Facility Name</th>\n",
       "      <th>Park Borough</th>\n",
       "      <th>School Name</th>\n",
       "      <th>School Number</th>\n",
       "      <th>School Region</th>\n",
       "      <th>School Code</th>\n",
       "      <th>School Phone Number</th>\n",
       "      <th>School Address</th>\n",
       "      <th>School City</th>\n",
       "      <th>School State</th>\n",
       "      <th>School Zip</th>\n",
       "      <th>School Not Found</th>\n",
       "      <th>School or Citywide Complaint</th>\n",
       "      <th>Vehicle Type</th>\n",
       "      <th>Taxi Company Borough</th>\n",
       "      <th>Taxi Pick Up Location</th>\n",
       "      <th>Bridge Highway Name</th>\n",
       "      <th>Bridge Highway Direction</th>\n",
       "      <th>Road Ramp</th>\n",
       "      <th>Bridge Highway Segment</th>\n",
       "      <th>Garage Lot Name</th>\n",
       "      <th>Ferry Direction</th>\n",
       "      <th>Ferry Terminal Name</th>\n",
       "      <th>Latitude</th>\n",
       "      <th>Longitude</th>\n",
       "      <th>Location</th>\n",
       "    </tr>\n",
       "    <tr>\n",
       "      <th>Unique Key</th>\n",
       "      <th></th>\n",
       "      <th></th>\n",
       "      <th></th>\n",
       "      <th></th>\n",
       "      <th></th>\n",
       "      <th></th>\n",
       "      <th></th>\n",
       "      <th></th>\n",
       "      <th></th>\n",
       "      <th></th>\n",
       "      <th></th>\n",
       "      <th></th>\n",
       "      <th></th>\n",
       "      <th></th>\n",
       "      <th></th>\n",
       "      <th></th>\n",
       "      <th></th>\n",
       "      <th></th>\n",
       "      <th></th>\n",
       "      <th></th>\n",
       "      <th></th>\n",
       "      <th></th>\n",
       "      <th></th>\n",
       "      <th></th>\n",
       "      <th></th>\n",
       "      <th></th>\n",
       "      <th></th>\n",
       "      <th></th>\n",
       "      <th></th>\n",
       "      <th></th>\n",
       "      <th></th>\n",
       "      <th></th>\n",
       "      <th></th>\n",
       "      <th></th>\n",
       "      <th></th>\n",
       "      <th></th>\n",
       "      <th></th>\n",
       "      <th></th>\n",
       "      <th></th>\n",
       "      <th></th>\n",
       "      <th></th>\n",
       "      <th></th>\n",
       "      <th></th>\n",
       "      <th></th>\n",
       "      <th></th>\n",
       "      <th></th>\n",
       "      <th></th>\n",
       "      <th></th>\n",
       "      <th></th>\n",
       "      <th></th>\n",
       "      <th></th>\n",
       "      <th></th>\n",
       "    </tr>\n",
       "  </thead>\n",
       "  <tbody>\n",
       "  </tbody>\n",
       "</table>\n",
       "</div>"
      ],
      "text/plain": [
       "Empty DataFrame\n",
       "Columns: [Created Date, Closed Date, Agency, Agency Name, Complaint Type, Descriptor, Location Type, Incident Zip, Incident Address, Street Name, Cross Street 1, Cross Street 2, Intersection Street 1, Intersection Street 2, Address Type, City, Landmark, Facility Type, Status, Due Date, Resolution Description, Resolution Action Updated Date, Community Board, Borough, X Coordinate (State Plane), Y Coordinate (State Plane), Park Facility Name, Park Borough, School Name, School Number, School Region, School Code, School Phone Number, School Address, School City, School State, School Zip, School Not Found, School or Citywide Complaint, Vehicle Type, Taxi Company Borough, Taxi Pick Up Location, Bridge Highway Name, Bridge Highway Direction, Road Ramp, Bridge Highway Segment, Garage Lot Name, Ferry Direction, Ferry Terminal Name, Latitude, Longitude, Location]\n",
       "Index: []"
      ]
     },
     "execution_count": 27,
     "metadata": {},
     "output_type": "execute_result"
    }
   ],
   "source": [
    "calls.head(0)"
   ]
  },
  {
   "cell_type": "code",
   "execution_count": 29,
   "metadata": {
    "collapsed": false
   },
   "outputs": [
    {
     "data": {
      "text/plain": [
       "NaN            1517019\n",
       "Precinct        633321\n",
       "DSNY Garage      78758\n",
       "School            1554\n",
       "Name: Facility Type, dtype: int64"
      ]
     },
     "execution_count": 29,
     "metadata": {},
     "output_type": "execute_result"
    }
   ],
   "source": [
    "calls['Facility Type'].value_counts(dropna=False)"
   ]
  },
  {
   "cell_type": "code",
   "execution_count": 30,
   "metadata": {
    "collapsed": false
   },
   "outputs": [
    {
     "data": {
      "text/plain": [
       "Closed              2025382\n",
       "Open                 101381\n",
       "Pending               56829\n",
       "Assigned              39998\n",
       "Email Sent             3639\n",
       "Started                3366\n",
       "Closed - Testing         15\n",
       "Unassigned                9\n",
       "Draft                     2\n",
       "Unspecified               2\n",
       "Name: Status, dtype: int64"
      ]
     },
     "execution_count": 30,
     "metadata": {},
     "output_type": "execute_result"
    }
   ],
   "source": [
    "calls['Status'].value_counts()"
   ]
  },
  {
   "cell_type": "code",
   "execution_count": 32,
   "metadata": {
    "collapsed": false
   },
   "outputs": [],
   "source": [
    "# calls['Due Date'].value_counts()"
   ]
  },
  {
   "cell_type": "code",
   "execution_count": 33,
   "metadata": {
    "collapsed": false
   },
   "outputs": [
    {
     "data": {
      "text/plain": [
       "The Police Department responded to the complaint and with the information available observed no evidence of the violation at that time.                                                                                                                                                                                                            227891\n",
       "The Department of Housing Preservation and Development inspected the following conditions. No violations were issued. The complaint has been closed.                                                                                                                                                                                               152475\n",
       "The Police Department responded to the complaint and took action to fix the condition.                                                                                                                                                                                                                                                             145417\n",
       "Service Request status for this request is available on the Department of Transportationâs website. Please click the âLearn Moreâ link below.                                                                                                                                                                                                110051\n",
       "The complaint you filed is a duplicate of a condition already reported by another tenant for a building-wide condition. The original complaint is still open. HPD may attempt to contact you to verify the correction of the condition or may conduct an inspection of your unit if the original complainant is not available for verification.     87095\n",
       "The Police Department responded and upon arrival those responsible for the condition were gone.                                                                                                                                                                                                                                                     84235\n",
       "The Department of Housing Preservation and Development inspected the following conditions. Violations were issued. Information about specific violations is available at www.nyc.gov/hpd.                                                                                                                                                           83828\n",
       "The Police Department responded to the complaint and determined that police action was not necessary.                                                                                                                                                                                                                                               73532\n",
       "The Department of Housing Preservation and Development was not able to gain access to inspect the following conditions. The complaint has been closed. If the condition still exists, please file a new complaint.                                                                                                                                  67565\n",
       "The Department of Transportation inspected this complaint and repaired the problem.                                                                                                                                                                                                                                                                 43058\n",
       "The Department of Housing Preservation and Development responded to a complaint of no heat or hot water and was advised by a tenant in the building that heat and hot water had been restored. If the condition still exists, please file a new complaint.                                                                                          42311\n",
       "The Police Department issued a summons in response to the complaint.                                                                                                                                                                                                                                                                                39773\n",
       "The Department of Sanitation removed the items.                                                                                                                                                                                                                                                                                                     39388\n",
       "The Department of Environmental Protection did not observe a violation of the New York City Air/Noise Code at the time of inspection and could not issue a notice of violation. If the problem still exists, please call 311 and file a new complaint. If you are outside of New York City, please call (212) NEW-YORK (212-639-9675).              35572\n",
       "The Department of Health and Mental Hygiene will review your complaint to determine appropriate action.  Complaints of this type usually result in an inspection.  Please call 311 in 30 days from the date of your complaint for status                                                                                                            32914\n",
       "The Department of Environmental Protection determined that this complaint is a duplicate of a previously filed complaint. The original complaint is being addressed.                                                                                                                                                                                32753\n",
       "The Police Department reviewed your complaint and provided additional information below.                                                                                                                                                                                                                                                            32195\n",
       "The following complaint conditions are still open. HPD may attempt to contact you to verify the correction of the condition or may conduct an inspection.                                                                                                                                                                                           31935\n",
       "The Department of Sanitation investigated this complaint and found no violation at the location.                                                                                                                                                                                                                                                    30165\n",
       "The Department of Transportation inspected the condition you reported. You can find additional information in the \"Notes to Customer\" field.                                                                                                                                                                                                        29261\n",
       "The Department of Housing Preservation and Development was not able to gain access to your apartment or others in the building to inspect for a lack of heat or hot water. The complaint has been closed. If the condition still exists, please file a new complaint.                                                                               27250\n",
       "The literature has been mailed. If it has not been received, please request it again from 311.                                                                                                                                                                                                                                                      26792\n",
       "The mobile outreach response team went to the location provided but could not find the individual that you reported.                                                                                                                                                                                                                                25102\n",
       "The Department of Sanitation investigated this complaint and found no condition at the location.                                                                                                                                                                                                                                                    24578\n",
       "The Human Resources Administration received your request. If you are eligible for a benefit card replacement, you will receive it in 7 to 10 business days. No further updates will be available by calling 311 or on 311 Online.                                                                                                                   23772\n",
       "The Department of Environment Protection inspected your complaint but could not find the problem you reported. If the condition persists, please call 311 (or 212-639-9675 if calling from a non-New York City area code) with more detailed information to submit a new complaint.                                                                 23429\n",
       "See notes.                                                                                                                                                                                                                                                                                                                                          22973\n",
       "The Department of Buildings investigated this complaint and determined that no further action was necessary.                                                                                                                                                                                                                                        22021\n",
       "The Taxi and Limousine Commission will contact you within 14 days to confirm your complaint details. Please note your Service Request number for future reference.                                                                                                                                                                                  20201\n",
       "The Department of Housing Preservation and Development contacted an occupant of the apartment and verified that the following conditions were corrected. The complaint has been closed. If the condition still exists, please file a new complaint.                                                                                                 18323\n",
       "                                                                                                                                                                                                                                                                                                                                                    ...  \n",
       "The Department of Parks and Recreation has determined that this issue is not within its jurisdiction. Please file a Service Request with the Fire Department of New York.                                                                                                                                                                               1\n",
       "The Department of Environmental Protection attempted to investigate this complaint but could not gain access to the location. If the problem still exists, please call 311 and file a new complaint with additional access information. If you are outside of New York City, please call (212) NEW-YORK (212-639-9675).                                 1\n",
       "Your comments have been submitted to the Department of Health and Mental Hygiene. If you provided contact information, the agency will contact you within 14 days. No further status will be available at 311.                                                                                                                                          1\n",
       "The Department of Environmental Protection determined that sludge thickener tanks were being dumped by wastewater treatment plant personnel at the time of the complaint.                                                                                                                                                                               1\n",
       "The Department of Transportation will research this Service Request and will determine the next action.                                                                                                                                                                                                                                                 1\n",
       "Property is fenced & locked - referred to Law Dept for access warrant                                                                                                                                                                                                                                                                                   1\n",
       "Your comments have been submitted to the Mayor's Office of Film, Theatre and Broadcasting.  If you provided contact information and have not received a response, I can submit a new request.                                                                                                                                                           1\n",
       "The Department of Health and Mental Hygiene determined that this issue is not within its jurisdiction. It has been referred to the Department of Environmental Conservation.                                                                                                                                                                            1\n",
       "The agency has declined the new tree request because the suggested location cannot be planted as a result of temporary circumstances.                                                                                                                                                                                                                   1\n",
       "The Department of Health and Mental Hygiene determined that this issue is not within its jurisdiction. The Service Request has been referred to another agency.                                                                                                                                                                                         1\n",
       "The Department of Environmental Protection conducted an inspection and determined that \"No Horn Honking\" or \"No Idling\" signs are warranted. A request will be sent to the Department of Transportation to have the sign(s) installed.                                                                                                                  1\n",
       "The Department of Transportation requires 3 days to respond to this type of complaint.  Please note your Service Request number for future reference.                                                                                                                                                                                                   1\n",
       "Upon preliminary inspection, the phone was found to be broken.  A follow-up inspection is scheduled to take place within seven days.                                                                                                                                                                                                                    1\n",
       "The Department of Education reviewed the complaint and sent out an inspector to assess the situation. Updated status will be available in 7 days.                                                                                                                                                                                                       1\n",
       "The Department of Health and Mental Hygiene has reviewed your Service Request. A warning letter has been sent to the responsible party notifying them to correct the condition. An inspector will be dispatched if needed. If the condition persists 21 days after the initial report, please call 311 to file another Service Request.                 1\n",
       "The Department of Environmental Protection investigated this complaint and found a groundwater flooding condition.                                                                                                                                                                                                                                      1\n",
       "The Department of Health and Mental Hygiene has reviewed and closed the Service Request.                                                                                                                                                                                                                                                                1\n",
       "The Department of Health and Mental Hygiene has investigated the complaint and Could Not Locate the establishment or an Incorrect Address was provided.  Please confirm the address and resubmit a new complaint.                                                                                                                                       1\n",
       "The Department of Health and Mental Hygiene has investigated the complaint.Â  No Health Code violations or health hazards noted. No further action needed.                                                                                                                                                                                              1\n",
       "The Department of Health and Mental Hygiene determined that this issue is not within its jurisdiction. It has been referred to the New York State Department of Health.                                                                                                                                                                                 1\n",
       "The Department of Parks and Recreation has determined that this issue is not within its jurisdiction. It has been referred to the New York City Housing Authority.                                                                                                                                                                                      1\n",
       "The Department of Transportation has inspected the location and notified the property owner of any defective sidewalk conditions. The property owner is responsible for maintaining, repairing and installing sidewalks adjoining their property, according to Section 19-152 of the New York City Administrative Code.                                 1\n",
       "Your comments have been submitted to the Department of Correction.  If you provided contact information and have not received a response, I can submit a new request.                                                                                                                                                                                   1\n",
       "The Department of Transportation has determined that this issue is not within its jurisdiction. It has been referred to the Department of Environmental Protection.                                                                                                                                                                                     1\n",
       "Your comments have been submitted to the Election Modernization Task Force.  If you provided contact information and have not received a response, I can submit a new request.                                                                                                                                                                          1\n",
       "The Department of Health and Mental Hygiene has investigated the complaint and previously cited violations were corrected and no new violations cited.                                                                                                                                                                                                  1\n",
       "The Department of Environmental Protection ensured that all areas are kept neat and clean.                                                                                                                                                                                                                                                              1\n",
       "The Department of Parks and Recreation has determined that this issue is not within its jurisdiction. Please file a Service Request with the Department of Health and Mental Hygiene.                                                                                                                                                                   1\n",
       "The Department of Health and Mental Hygiene will review your complaint to determine appropriate action.  Complaints of this type usually result in an inspection.  Please call 311 in 37 days from the date of your complaint for status.                                                                                                               1\n",
       "Your comments have been submitted to the Department of Finance.  If you provided contact information and have not received a response, I can submit a new request.                                                                                                                                                                                      1\n",
       "Name: Resolution Description, dtype: int64"
      ]
     },
     "execution_count": 33,
     "metadata": {},
     "output_type": "execute_result"
    }
   ],
   "source": [
    "calls['Resolution Description'].value_counts()"
   ]
  },
  {
   "cell_type": "code",
   "execution_count": 34,
   "metadata": {
    "collapsed": false
   },
   "outputs": [
    {
     "data": {
      "text/plain": [
       "0 Unspecified                80053\n",
       "12 MANHATTAN                 73349\n",
       "01 BROOKLYN                  51873\n",
       "12 QUEENS                    51646\n",
       "04 BRONX                     50148\n",
       "03 BROOKLYN                  48734\n",
       "07 BRONX                     47044\n",
       "05 BROOKLYN                  46216\n",
       "01 QUEENS                    46132\n",
       "07 QUEENS                    45990\n",
       "17 BROOKLYN                  45496\n",
       "14 BROOKLYN                  43918\n",
       "03 MANHATTAN                 43718\n",
       "05 BRONX                     43650\n",
       "01 STATEN ISLAND             43142\n",
       "05 QUEENS                    43094\n",
       "07 MANHATTAN                 42132\n",
       "09 BRONX                     42116\n",
       "05 MANHATTAN                 40888\n",
       "18 BROOKLYN                  40269\n",
       "12 BRONX                     40096\n",
       "04 MANHATTAN                 39739\n",
       "10 MANHATTAN                 39590\n",
       "09 QUEENS                    37896\n",
       "08 MANHATTAN                 37755\n",
       "09 MANHATTAN                 36654\n",
       "02 BROOKLYN                  35607\n",
       "13 QUEENS                    35265\n",
       "04 BROOKLYN                  35010\n",
       "12 BROOKLYN                  34940\n",
       "                             ...  \n",
       "04 QUEENS                    26960\n",
       "07 BROOKLYN                  25644\n",
       "Unspecified MANHATTAN        24133\n",
       "08 BRONX                     23650\n",
       "14 QUEENS                    23363\n",
       "10 BRONX                     23206\n",
       "Unspecified BROOKLYN         22547\n",
       "01 MANHATTAN                 21670\n",
       "01 BRONX                     20989\n",
       "11 QUEENS                    20781\n",
       "06 QUEENS                    20539\n",
       "Unspecified QUEENS           20517\n",
       "16 BROOKLYN                  20493\n",
       "Unspecified BRONX            20302\n",
       "03 BRONX                     20198\n",
       "13 BROOKLYN                  18379\n",
       "02 BRONX                     16117\n",
       "Unspecified STATEN ISLAND     1697\n",
       "83 QUEENS                      681\n",
       "80 QUEENS                      461\n",
       "81 QUEENS                      296\n",
       "64 MANHATTAN                   233\n",
       "55 BROOKLYN                    174\n",
       "28 BRONX                       138\n",
       "82 QUEENS                      123\n",
       "26 BRONX                       107\n",
       "56 BROOKLYN                    102\n",
       "95 STATEN ISLAND                81\n",
       "27 BRONX                        75\n",
       "84 QUEENS                       40\n",
       "Name: Community Board, dtype: int64"
      ]
     },
     "execution_count": 34,
     "metadata": {},
     "output_type": "execute_result"
    }
   ],
   "source": [
    "calls['Community Board'].value_counts()"
   ]
  },
  {
   "cell_type": "code",
   "execution_count": 35,
   "metadata": {
    "collapsed": false
   },
   "outputs": [
    {
     "data": {
      "text/plain": [
       "BROOKLYN         660754\n",
       "QUEENS           493308\n",
       "MANHATTAN        488945\n",
       "BRONX            405569\n",
       "STATEN ISLAND    102023\n",
       "Unspecified       80053\n",
       "Name: Borough, dtype: int64"
      ]
     },
     "execution_count": 35,
     "metadata": {},
     "output_type": "execute_result"
    }
   ],
   "source": [
    "calls['Borough'].value_counts()"
   ]
  },
  {
   "cell_type": "code",
   "execution_count": 36,
   "metadata": {
    "collapsed": false
   },
   "outputs": [
    {
     "data": {
      "text/plain": [
       "Unique Key\n",
       "32384301    (40.60013412680983, -73.95974737464373)\n",
       "32411679    (40.68345381756792, -73.97569133335972)\n",
       "32414203    (40.68961803724243, -73.97327313936707)\n",
       "32415292    (40.68745588892368, -73.96568024643186)\n",
       "32416314    (40.69288694673566, -73.97279943417949)\n",
       "Name: Location, dtype: object"
      ]
     },
     "execution_count": 36,
     "metadata": {},
     "output_type": "execute_result"
    }
   ],
   "source": [
    "calls['Location'].head()"
   ]
  }
 ],
 "metadata": {
  "anaconda-cloud": {},
  "kernelspec": {
   "display_name": "Python [conda env:311]",
   "language": "python",
   "name": "conda-env-311-py"
  },
  "language_info": {
   "codemirror_mode": {
    "name": "ipython",
    "version": 3
   },
   "file_extension": ".py",
   "mimetype": "text/x-python",
   "name": "python",
   "nbconvert_exporter": "python",
   "pygments_lexer": "ipython3",
   "version": "3.5.2"
  }
 },
 "nbformat": 4,
 "nbformat_minor": 2
}

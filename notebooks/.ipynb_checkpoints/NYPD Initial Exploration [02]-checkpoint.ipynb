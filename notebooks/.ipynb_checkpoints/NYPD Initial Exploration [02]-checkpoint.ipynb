{
 "cells": [
  {
   "cell_type": "code",
   "execution_count": 1,
   "metadata": {
    "collapsed": true
   },
   "outputs": [],
   "source": [
    "import pandas as pd\n",
    "pd.set_option(\"max_columns\", None)\n",
    "import matplotlib.pyplot as plt\n",
    "import seaborn as sns\n",
    "import numpy as np\n",
    "%matplotlib inline"
   ]
  },
  {
   "cell_type": "markdown",
   "metadata": {},
   "source": [
    "The dataset under examination is the New York City Open Data Portal's [NYPD Complaints](https://data.cityofnewyork.us/Public-Safety/NYPD-Complaint-Data-Current-YTD/5uac-w243) dataset. NYPD complaints are logged on the portal in two datases, one of \"Historical\" complaints going back to 2006, and one (the one here) that is YTD for 2016.\n",
    "\n",
    "For the data dictionary see `../data/`."
   ]
  },
  {
   "cell_type": "code",
   "execution_count": 3,
   "metadata": {
    "collapsed": false
   },
   "outputs": [],
   "source": [
    "complaints = pd.read_csv(\"../data/NYPD_Complaint_Data_Current_YTD.csv\", index_col=0)"
   ]
  },
  {
   "cell_type": "code",
   "execution_count": 5,
   "metadata": {
    "collapsed": false
   },
   "outputs": [
    {
     "data": {
      "text/html": [
       "<div>\n",
       "<table border=\"1\" class=\"dataframe\">\n",
       "  <thead>\n",
       "    <tr style=\"text-align: right;\">\n",
       "      <th></th>\n",
       "      <th>CMPLNT_FR_DT</th>\n",
       "      <th>CMPLNT_FR_TM</th>\n",
       "      <th>CMPLNT_TO_DT</th>\n",
       "      <th>CMPLNT_TO_TM</th>\n",
       "      <th>RPT_DT</th>\n",
       "      <th>KY_CD</th>\n",
       "      <th>OFNS_DESC</th>\n",
       "      <th>PD_CD</th>\n",
       "      <th>PD_DESC</th>\n",
       "      <th>CRM_ATPT_CPTD_CD</th>\n",
       "      <th>LAW_CAT_CD</th>\n",
       "      <th>JURIS_DESC</th>\n",
       "      <th>BORO_NM</th>\n",
       "      <th>ADDR_PCT_CD</th>\n",
       "      <th>LOC_OF_OCCUR_DESC</th>\n",
       "      <th>PREM_TYP_DESC</th>\n",
       "      <th>PARKS_NM</th>\n",
       "      <th>HADEVELOPT</th>\n",
       "      <th>X_COORD_CD</th>\n",
       "      <th>Y_COORD_CD</th>\n",
       "      <th>Latitude</th>\n",
       "      <th>Longitude</th>\n",
       "      <th>Lat_Lon</th>\n",
       "    </tr>\n",
       "    <tr>\n",
       "      <th>CMPLNT_NUM</th>\n",
       "      <th></th>\n",
       "      <th></th>\n",
       "      <th></th>\n",
       "      <th></th>\n",
       "      <th></th>\n",
       "      <th></th>\n",
       "      <th></th>\n",
       "      <th></th>\n",
       "      <th></th>\n",
       "      <th></th>\n",
       "      <th></th>\n",
       "      <th></th>\n",
       "      <th></th>\n",
       "      <th></th>\n",
       "      <th></th>\n",
       "      <th></th>\n",
       "      <th></th>\n",
       "      <th></th>\n",
       "      <th></th>\n",
       "      <th></th>\n",
       "      <th></th>\n",
       "      <th></th>\n",
       "      <th></th>\n",
       "    </tr>\n",
       "  </thead>\n",
       "  <tbody>\n",
       "  </tbody>\n",
       "</table>\n",
       "</div>"
      ],
      "text/plain": [
       "Empty DataFrame\n",
       "Columns: [CMPLNT_FR_DT, CMPLNT_FR_TM, CMPLNT_TO_DT, CMPLNT_TO_TM, RPT_DT, KY_CD, OFNS_DESC, PD_CD, PD_DESC, CRM_ATPT_CPTD_CD, LAW_CAT_CD, JURIS_DESC, BORO_NM, ADDR_PCT_CD, LOC_OF_OCCUR_DESC, PREM_TYP_DESC, PARKS_NM, HADEVELOPT, X_COORD_CD, Y_COORD_CD, Latitude, Longitude, Lat_Lon]\n",
       "Index: []"
      ]
     },
     "execution_count": 5,
     "metadata": {},
     "output_type": "execute_result"
    }
   ],
   "source": [
    "complaints.head(0)"
   ]
  },
  {
   "cell_type": "markdown",
   "metadata": {},
   "source": [
    "The rules under which entries are dated and recorded are fairly intricate. The column names are in a difficult-to-read format, so we'll convert them to readable column names before we do anythign else."
   ]
  },
  {
   "cell_type": "code",
   "execution_count": 12,
   "metadata": {
    "collapsed": false
   },
   "outputs": [],
   "source": [
    "complaints.columns = ['Complaint Date', 'Complaint Time', 'Reported Complaint Date', 'Reported Complaint Time',\n",
    "                      'Reported Date', 'Offense Classification', 'Key Code', 'Internal Classification',\n",
    "                      'Internal Classification Description', 'Crime Successful',\n",
    "                      'Level of Offense', 'Jurisdiction', 'Borough', 'Precinct', 'Location Description', 'Premises Type',\n",
    "                      'Park Name', 'NYCHA Name', 'X Coordinate', 'Y Coordinate', 'Latitude', 'Longitude', 'Location']"
   ]
  },
  {
   "cell_type": "code",
   "execution_count": 16,
   "metadata": {
    "collapsed": true
   },
   "outputs": [],
   "source": [
    "complaints.index.name = 'ID'"
   ]
  },
  {
   "cell_type": "code",
   "execution_count": 17,
   "metadata": {
    "collapsed": false
   },
   "outputs": [
    {
     "data": {
      "text/html": [
       "<div>\n",
       "<table border=\"1\" class=\"dataframe\">\n",
       "  <thead>\n",
       "    <tr style=\"text-align: right;\">\n",
       "      <th></th>\n",
       "      <th>Complaint Date</th>\n",
       "      <th>Complaint Time</th>\n",
       "      <th>Reported Complaint Date</th>\n",
       "      <th>Reported Complaint Time</th>\n",
       "      <th>Reported Date</th>\n",
       "      <th>Offense Classification</th>\n",
       "      <th>Key Code</th>\n",
       "      <th>Internal Classification</th>\n",
       "      <th>Internal Classification Description</th>\n",
       "      <th>Crime Successful</th>\n",
       "      <th>Level of Offense</th>\n",
       "      <th>Jurisdiction</th>\n",
       "      <th>Borough</th>\n",
       "      <th>Precinct</th>\n",
       "      <th>Location Description</th>\n",
       "      <th>Premises Type</th>\n",
       "      <th>Park Name</th>\n",
       "      <th>NYCHA Name</th>\n",
       "      <th>X Coordinate</th>\n",
       "      <th>Y Coordinate</th>\n",
       "      <th>Latitude</th>\n",
       "      <th>Longitude</th>\n",
       "      <th>Location</th>\n",
       "    </tr>\n",
       "    <tr>\n",
       "      <th>ID</th>\n",
       "      <th></th>\n",
       "      <th></th>\n",
       "      <th></th>\n",
       "      <th></th>\n",
       "      <th></th>\n",
       "      <th></th>\n",
       "      <th></th>\n",
       "      <th></th>\n",
       "      <th></th>\n",
       "      <th></th>\n",
       "      <th></th>\n",
       "      <th></th>\n",
       "      <th></th>\n",
       "      <th></th>\n",
       "      <th></th>\n",
       "      <th></th>\n",
       "      <th></th>\n",
       "      <th></th>\n",
       "      <th></th>\n",
       "      <th></th>\n",
       "      <th></th>\n",
       "      <th></th>\n",
       "      <th></th>\n",
       "    </tr>\n",
       "  </thead>\n",
       "  <tbody>\n",
       "  </tbody>\n",
       "</table>\n",
       "</div>"
      ],
      "text/plain": [
       "Empty DataFrame\n",
       "Columns: [Complaint Date, Complaint Time, Reported Complaint Date, Reported Complaint Time, Reported Date, Offense Classification, Key Code, Internal Classification, Internal Classification Description, Crime Successful, Level of Offense, Jurisdiction, Borough, Precinct, Location Description, Premises Type, Park Name, NYCHA Name, X Coordinate, Y Coordinate, Latitude, Longitude, Location]\n",
       "Index: []"
      ]
     },
     "execution_count": 17,
     "metadata": {},
     "output_type": "execute_result"
    }
   ],
   "source": [
    "complaints.head(0)"
   ]
  },
  {
   "cell_type": "code",
   "execution_count": 19,
   "metadata": {
    "collapsed": false
   },
   "outputs": [
    {
     "data": {
      "text/plain": [
       "01/01/2016    2077\n",
       "06/01/2016    1731\n",
       "04/01/2016    1728\n",
       "07/01/2016    1536\n",
       "03/01/2016    1503\n",
       "04/22/2016    1501\n",
       "01/15/2016    1482\n",
       "05/20/2016    1466\n",
       "04/13/2016    1464\n",
       "08/05/2016    1459\n",
       "05/11/2016    1456\n",
       "06/02/2016    1452\n",
       "06/24/2016    1452\n",
       "06/22/2016    1452\n",
       "06/15/2016    1450\n",
       "03/11/2016    1449\n",
       "04/15/2016    1445\n",
       "05/14/2016    1441\n",
       "08/20/2016    1435\n",
       "06/17/2016    1432\n",
       "05/12/2016    1432\n",
       "08/01/2016    1428\n",
       "06/10/2016    1421\n",
       "05/25/2016    1418\n",
       "05/17/2016    1416\n",
       "04/21/2016    1414\n",
       "06/03/2016    1412\n",
       "07/23/2016    1410\n",
       "04/20/2016    1409\n",
       "02/01/2016    1408\n",
       "              ... \n",
       "08/12/2013       1\n",
       "07/28/2007       1\n",
       "11/27/2012       1\n",
       "01/01/1978       1\n",
       "01/08/2010       1\n",
       "09/15/2014       1\n",
       "05/23/2011       1\n",
       "03/09/2012       1\n",
       "04/27/2013       1\n",
       "05/15/1016       1\n",
       "12/12/2013       1\n",
       "09/14/1016       1\n",
       "10/20/2014       1\n",
       "01/01/1988       1\n",
       "04/12/2011       1\n",
       "06/09/2012       1\n",
       "01/31/2005       1\n",
       "01/21/2014       1\n",
       "09/23/1985       1\n",
       "10/26/2014       1\n",
       "08/07/2010       1\n",
       "07/03/2005       1\n",
       "04/14/1914       1\n",
       "08/30/2011       1\n",
       "08/19/2013       1\n",
       "04/12/2000       1\n",
       "12/05/2012       1\n",
       "04/18/2011       1\n",
       "05/31/2010       1\n",
       "09/06/2011       1\n",
       "Name: Complaint Date, dtype: int64"
      ]
     },
     "execution_count": 19,
     "metadata": {},
     "output_type": "execute_result"
    }
   ],
   "source": [
    "complaints['Complaint Date'].value_counts()"
   ]
  },
  {
   "cell_type": "code",
   "execution_count": 20,
   "metadata": {
    "collapsed": false
   },
   "outputs": [
    {
     "data": {
      "text/plain": [
       "12:00:00    9732\n",
       "15:00:00    8000\n",
       "18:00:00    7486\n",
       "17:00:00    7120\n",
       "20:00:00    7062\n",
       "16:00:00    6991\n",
       "19:00:00    6680\n",
       "14:00:00    6307\n",
       "22:00:00    6111\n",
       "09:00:00    5977\n",
       "21:00:00    5932\n",
       "10:00:00    5861\n",
       "13:00:00    5784\n",
       "08:00:00    5526\n",
       "23:00:00    5279\n",
       "11:00:00    5088\n",
       "00:01:00    4659\n",
       "01:00:00    3934\n",
       "18:30:00    3632\n",
       "16:30:00    3507\n",
       "17:30:00    3502\n",
       "15:30:00    3373\n",
       "19:30:00    3346\n",
       "02:00:00    3346\n",
       "20:30:00    3323\n",
       "14:30:00    3260\n",
       "21:30:00    3150\n",
       "00:00:00    3148\n",
       "22:30:00    2825\n",
       "07:00:00    2724\n",
       "            ... \n",
       "06:32:00      11\n",
       "06:16:00      11\n",
       "05:02:00      11\n",
       "07:39:00      11\n",
       "07:06:00      10\n",
       "05:41:00      10\n",
       "08:34:00      10\n",
       "05:53:00      10\n",
       "06:34:00      10\n",
       "05:21:00      10\n",
       "06:13:00       9\n",
       "07:29:00       9\n",
       "05:46:00       9\n",
       "06:11:00       9\n",
       "07:04:00       9\n",
       "07:01:00       9\n",
       "06:46:00       9\n",
       "07:26:00       9\n",
       "05:56:00       8\n",
       "06:48:00       8\n",
       "07:02:00       8\n",
       "06:51:00       8\n",
       "07:21:00       8\n",
       "05:37:00       6\n",
       "06:49:00       6\n",
       "06:47:00       6\n",
       "05:34:00       5\n",
       "05:51:00       5\n",
       "06:19:00       4\n",
       "06:36:00       4\n",
       "Name: Complaint Time, dtype: int64"
      ]
     },
     "execution_count": 20,
     "metadata": {},
     "output_type": "execute_result"
    }
   ],
   "source": [
    "complaints['Complaint Time'].value_counts()"
   ]
  },
  {
   "cell_type": "code",
   "execution_count": 22,
   "metadata": {
    "collapsed": false
   },
   "outputs": [],
   "source": [
    "# complaints['Reported Complaint Date'].value_counts()\n",
    "# complaints['Reported Complaint Time'].value_counts()\n",
    "# complaints['Reported Date'].value_counts()"
   ]
  },
  {
   "cell_type": "code",
   "execution_count": 23,
   "metadata": {
    "collapsed": false
   },
   "outputs": [
    {
     "data": {
      "text/plain": [
       "341    60850\n",
       "578    49907\n",
       "344    39977\n",
       "109    32561\n",
       "351    30117\n",
       "361    17402\n",
       "106    15869\n",
       "235    13635\n",
       "105    11472\n",
       "126     9961\n",
       "107     9635\n",
       "121     7501\n",
       "359     6911\n",
       "348     4950\n",
       "110     4767\n",
       "113     4585\n",
       "347     4423\n",
       "118     4111\n",
       "236     3947\n",
       "233     3708\n",
       "112     3703\n",
       "117     3553\n",
       "352     3001\n",
       "340     2626\n",
       "343     1602\n",
       "353     1338\n",
       "104     1107\n",
       "116     1031\n",
       "358      947\n",
       "355      945\n",
       "       ...  \n",
       "125      528\n",
       "364      319\n",
       "101      263\n",
       "350      221\n",
       "231      205\n",
       "238      179\n",
       "124      111\n",
       "356       93\n",
       "345       88\n",
       "346       75\n",
       "572       66\n",
       "363       48\n",
       "675       46\n",
       "230       35\n",
       "120       29\n",
       "677       28\n",
       "342       27\n",
       "115        8\n",
       "571        7\n",
       "237        7\n",
       "349        3\n",
       "122        3\n",
       "103        3\n",
       "676        2\n",
       "354        2\n",
       "366        2\n",
       "455        2\n",
       "685        1\n",
       "234        1\n",
       "102        1\n",
       "Name: Offense Classification, dtype: int64"
      ]
     },
     "execution_count": 23,
     "metadata": {},
     "output_type": "execute_result"
    }
   ],
   "source": [
    "complaints['Offense Classification'].value_counts()"
   ]
  },
  {
   "cell_type": "code",
   "execution_count": 25,
   "metadata": {
    "collapsed": false
   },
   "outputs": [
    {
     "data": {
      "text/plain": [
       "PETIT LARCENY                           60850\n",
       "HARRASSMENT 2                           49907\n",
       "ASSAULT 3 & RELATED OFFENSES            39977\n",
       "CRIMINAL MISCHIEF & RELATED OF          37618\n",
       "GRAND LARCENY                           32561\n",
       "OFF. AGNST PUB ORD SENSBLTY &           17401\n",
       "DANGEROUS DRUGS                         17188\n",
       "FELONY ASSAULT                          15869\n",
       "ROBBERY                                 11472\n",
       "MISCELLANEOUS PENAL LAW                 10560\n",
       "BURGLARY                                 9635\n",
       "DANGEROUS WEAPONS                        8058\n",
       "OFFENSES AGAINST PUBLIC ADMINI           6911\n",
       "VEHICLE AND TRAFFIC LAWS                 4950\n",
       "GRAND LARCENY OF MOTOR VEHICLE           4767\n",
       "SEX CRIMES                               4739\n",
       "FORGERY                                  4585\n",
       "INTOXICATED & IMPAIRED DRIVING           4423\n",
       "THEFT-FRAUD                              3703\n",
       "CRIMINAL TRESPASS                        3001\n",
       "FRAUDS                                   2626\n",
       "UNAUTHORIZED USE OF A VEHICLE            1338\n",
       "OTHER OFFENSES RELATED TO THEF           1275\n",
       "POSSESSION OF STOLEN PROPERTY            1265\n",
       "RAPE                                     1107\n",
       "OFFENSES INVOLVING FRAUD                  947\n",
       "OFFENSES AGAINST THE PERSON               945\n",
       "ADMINISTRATIVE CODE                       759\n",
       "ARSON                                     613\n",
       "NYS LAWS-UNCLASSIFIED FELONY              528\n",
       "THEFT OF SERVICES                         327\n",
       "MURDER & NON-NEGL. MANSLAUGHTER           263\n",
       "GAMBLING                                  224\n",
       "BURGLAR'S TOOLS                           205\n",
       "FRAUDULENT ACCOSTING                      179\n",
       "OTHER STATE LAWS (NON PENAL LA            176\n",
       "AGRICULTURE & MRKTS LAW-UNCLASSIFIED      108\n",
       "KIDNAPPING & RELATED OFFENSES             107\n",
       "PROSTITUTION & RELATED OFFENSES           102\n",
       "OFFENSES RELATED TO CHILDREN               76\n",
       "ALCOHOLIC BEVERAGE CONTROL LAW             75\n",
       "DISORDERLY CONDUCT                         66\n",
       "OFFENSES AGAINST PUBLIC SAFETY             48\n",
       "JOSTLING                                   35\n",
       "PETIT LARCENY OF MOTOR VEHICLE             27\n",
       "ENDAN WELFARE INCOMP                       25\n",
       "CHILD ABANDONMENT/NON SUPPORT              16\n",
       "NYS LAWS-UNCLASSIFIED VIOLATION            14\n",
       "OTHER STATE LAWS                           14\n",
       "LOITERING/GAMBLING (CARDS, DIC              7\n",
       "ESCAPE 3                                    7\n",
       "KIDNAPPING                                  4\n",
       "NEW YORK CITY HEALTH CODE                   4\n",
       "OTHER STATE LAWS (NON PENAL LAW)            3\n",
       "HOMICIDE-NEGLIGENT,UNCLASSIFIE              3\n",
       "DISRUPTION OF A RELIGIOUS SERV              3\n",
       "UNLAWFUL POSS. WEAP. ON SCHOOL              2\n",
       "ANTICIPATORY OFFENSES                       2\n",
       "ADMINISTRATIVE CODES                        1\n",
       "HOMICIDE-NEGLIGENT-VEHICLE                  1\n",
       "Name: Key Code, dtype: int64"
      ]
     },
     "execution_count": 25,
     "metadata": {},
     "output_type": "execute_result"
    }
   ],
   "source": [
    "complaints['Key Code'].value_counts()"
   ]
  },
  {
   "cell_type": "code",
   "execution_count": 27,
   "metadata": {
    "collapsed": false
   },
   "outputs": [
    {
     "data": {
      "text/plain": [
       "638.0    34865\n",
       "101.0    32347\n",
       "333.0    19819\n",
       "639.0    16279\n",
       "637.0    15042\n",
       "338.0    14675\n",
       "109.0    12425\n",
       "254.0    11041\n",
       "259.0     9869\n",
       "321.0     9030\n",
       "258.0     8610\n",
       "567.0     8121\n",
       "198.0     6051\n",
       "339.0     5752\n",
       "113.0     5539\n",
       "511.0     4998\n",
       "905.0     4380\n",
       "782.0     3945\n",
       "729.0     3883\n",
       "441.0     3802\n",
       "916.0     3708\n",
       "739.0     3574\n",
       "421.0     3527\n",
       "386.0     3298\n",
       "343.0     3200\n",
       "269.0     3181\n",
       "267.0     3130\n",
       "793.0     3095\n",
       "221.0     3039\n",
       "349.0     2867\n",
       "         ...  \n",
       "107.0        2\n",
       "687.0        2\n",
       "122.0        1\n",
       "476.0        1\n",
       "754.0        1\n",
       "890.0        1\n",
       "872.0        1\n",
       "648.0        1\n",
       "513.0        1\n",
       "283.0        1\n",
       "529.0        1\n",
       "530.0        1\n",
       "669.0        1\n",
       "876.0        1\n",
       "784.0        1\n",
       "892.0        1\n",
       "737.0        1\n",
       "880.0        1\n",
       "345.0        1\n",
       "821.0        1\n",
       "605.0        1\n",
       "694.0        1\n",
       "532.0        1\n",
       "667.0        1\n",
       "587.0        1\n",
       "701.0        1\n",
       "289.0        1\n",
       "798.0        1\n",
       "574.0        1\n",
       "715.0        1\n",
       "Name: Internal Classification, dtype: int64"
      ]
     },
     "execution_count": 27,
     "metadata": {},
     "output_type": "execute_result"
    }
   ],
   "source": [
    "complaints['Internal Classification'].value_counts()"
   ]
  },
  {
   "cell_type": "code",
   "execution_count": 28,
   "metadata": {
    "collapsed": false
   },
   "outputs": [
    {
     "data": {
      "text/plain": [
       "HARASSMENT,SUBD 3,4,5                    34865\n",
       "ASSAULT 3                                32347\n",
       "LARCENY,PETIT FROM STORE-SHOPL           19819\n",
       "AGGRAVATED HARASSMENT 2                  16279\n",
       "HARASSMENT,SUBD 1,CIVILIAN               15042\n",
       "LARCENY,PETIT FROM BUILDING,UN           14675\n",
       "ASSAULT 2,1,UNCLASSIFIED                 12425\n",
       "MISCHIEF, CRIMINAL 4, OF MOTOR           11041\n",
       "CRIMINAL MISCHIEF,UNCLASSIFIED 4          9869\n",
       "LARCENY,PETIT FROM AUTO                   9030\n",
       "CRIMINAL MISCHIEF 4TH, GRAFFIT            8610\n",
       "MARIJUANA, POSSESSION 4 & 5               8121\n",
       "CRIMINAL CONTEMPT 1                       6051\n",
       "LARCENY,PETIT FROM OPEN AREAS,            5752\n",
       "MENACING,UNCLASSIFIED                     5539\n",
       "CONTROLLED SUBSTANCE, POSSESSI            5186\n",
       "INTOXICATED DRIVING,ALCOHOL               4380\n",
       "WEAPONS, POSSESSION, ETC                  3945\n",
       "FORGERY,ETC.,UNCLASSIFIED-FELO            3883\n",
       "LARCENY,GRAND OF AUTO                     3802\n",
       "LEAVING SCENE-ACCIDENT-PERSONA            3708\n",
       "FRAUD,UNCLASSIFIED-FELONY                 3574\n",
       "LARCENY,GRAND FROM VEHICLE/MOTORCYCLE     3527\n",
       "ROBBERY,PERSONAL ELECTRONIC DEVICE        3298\n",
       "LARCENY,PETIT OF BICYCLE                  3200\n",
       "MISCHIEF,CRIMINAL,    UNCL 2ND            3181\n",
       "MISCHIEF, CRIMINAL 3 & 2, OF M            3130\n",
       "WEAPONS POSSESSION 3                      3095\n",
       "BURGLARY,RESIDENCE,DAY                    3039\n",
       "LARCENY,PETIT OF LICENSE PLATE            2867\n",
       "                                         ...  \n",
       "WOUNDS,REPORTING OF                          2\n",
       "OBSCENITY, MATERIAL 3                        2\n",
       "CIGARETTE,NO TAX STAMP,POSSESS               2\n",
       "UNLAWFUL SALE SYNTHETIC MARIJUANA            1\n",
       "PROSTITUTION,PERMITTING                      1\n",
       "WEAPONS,MFR,TRANSPORT,ETC.                   1\n",
       "POSSES OR CARRY A KNIFE                      1\n",
       "APPEARANCE TICKET FAIL TO RESP               1\n",
       "HOMICIDE, NEGLIGENT, VEHICLE,                1\n",
       "BRIBERY,COMMERCIAL                           1\n",
       "LARCENY,PETIT OF BOAT                        1\n",
       "EDUCATION LAW,UNCLASSIFIED                   1\n",
       "LOITERING TO PROMOTE PROSTITUT               1\n",
       "PARK R&R,GAMBLING                            1\n",
       "PROSTITUTION 2, COMPULSORY                   1\n",
       "CREDIT CARD,UNLAWFUL USE OF                  1\n",
       "USURY,CRIMINAL                               1\n",
       "SALES OF PRESCRIPTION                        1\n",
       "POSS METH MANUFACT MATERIAL                  1\n",
       "DRUG, INJECTION OF                           1\n",
       "N.Y.C. TRANSIT AUTH. R&R                     1\n",
       "FIREARMS LICENSING LAWS                      1\n",
       "POSSESSION ANTI-SECURITY ITEM                1\n",
       "CONSPIRACY 6, 5                              1\n",
       "SOLICITATION 4, CRIMINAL                     1\n",
       "PLACE FALSE BOMB                             1\n",
       "HIND PROSEC. TERR 2                          1\n",
       "NOISE,UNECESSARY                             1\n",
       "PRIVACY,OFFENSES AGAINST,UNCLA               1\n",
       "INCEST                                       1\n",
       "Name: Internal Classification Description, dtype: int64"
      ]
     },
     "execution_count": 28,
     "metadata": {},
     "output_type": "execute_result"
    }
   ],
   "source": [
    "complaints['Internal Classification Description'].value_counts()"
   ]
  },
  {
   "cell_type": "code",
   "execution_count": 30,
   "metadata": {
    "collapsed": false
   },
   "outputs": [
    {
     "data": {
      "text/plain": [
       "COMPLETED    355599\n",
       "ATTEMPTED      6141\n",
       "Name: Crime Successful, dtype: int64"
      ]
     },
     "execution_count": 30,
     "metadata": {},
     "output_type": "execute_result"
    }
   ],
   "source": [
    "complaints['Crime Successful'].value_counts()"
   ]
  },
  {
   "cell_type": "code",
   "execution_count": 31,
   "metadata": {
    "collapsed": false
   },
   "outputs": [
    {
     "data": {
      "text/plain": [
       "MISDEMEANOR    199063\n",
       "FELONY         112014\n",
       "VIOLATION       50663\n",
       "Name: Level of Offense, dtype: int64"
      ]
     },
     "execution_count": 31,
     "metadata": {},
     "output_type": "execute_result"
    }
   ],
   "source": [
    "complaints['Level of Offense'].value_counts()"
   ]
  },
  {
   "cell_type": "code",
   "execution_count": 32,
   "metadata": {
    "collapsed": false
   },
   "outputs": [
    {
     "data": {
      "text/plain": [
       "N.Y. POLICE DEPT                319158\n",
       "N.Y. HOUSING POLICE              28874\n",
       "N.Y. TRANSIT POLICE               8859\n",
       "PORT AUTHORITY                    1872\n",
       "DEPT OF CORRECTIONS               1265\n",
       "OTHER                             1006\n",
       "TRI-BORO BRDG TUNNL                165\n",
       "HEALTH & HOSP CORP                 159\n",
       "N.Y. STATE POLICE                  130\n",
       "METRO NORTH                         57\n",
       "NYC PARKS                           53\n",
       "N.Y. STATE PARKS                    36\n",
       "STATN IS RAPID TRANS                33\n",
       "NEW YORK CITY SHERIFF OFFICE        30\n",
       "U.S. PARK POLICE                    16\n",
       "LONG ISLAND RAILRD                  15\n",
       "AMTRACK                              6\n",
       "NYS DEPT TAX AND FINANCE             5\n",
       "POLICE DEPT NYC                      1\n",
       "Name: Jurisdiction, dtype: int64"
      ]
     },
     "execution_count": 32,
     "metadata": {},
     "output_type": "execute_result"
    }
   ],
   "source": [
    "complaints['Jurisdiction'].value_counts()"
   ]
  },
  {
   "cell_type": "code",
   "execution_count": 33,
   "metadata": {
    "collapsed": false
   },
   "outputs": [
    {
     "data": {
      "text/plain": [
       "75.0     11403\n",
       "40.0      9384\n",
       "43.0      8955\n",
       "44.0      8793\n",
       "14.0      7797\n",
       "47.0      7783\n",
       "67.0      7695\n",
       "52.0      7411\n",
       "46.0      7165\n",
       "73.0      7121\n",
       "114.0     6789\n",
       "113.0     6177\n",
       "18.0      6154\n",
       "42.0      6132\n",
       "120.0     5882\n",
       "109.0     5882\n",
       "115.0     5835\n",
       "41.0      5829\n",
       "48.0      5802\n",
       "103.0     5765\n",
       "70.0      5540\n",
       "105.0     5475\n",
       "32.0      5182\n",
       "79.0      5171\n",
       "25.0      5132\n",
       "71.0      5057\n",
       "13.0      5040\n",
       "23.0      5037\n",
       "110.0     4952\n",
       "83.0      4871\n",
       "         ...  \n",
       "84.0      3933\n",
       "72.0      3883\n",
       "68.0      3814\n",
       "122.0     3769\n",
       "63.0      3736\n",
       "101.0     3580\n",
       "69.0      3565\n",
       "24.0      3533\n",
       "6.0       3487\n",
       "5.0       3384\n",
       "107.0     3363\n",
       "108.0     3363\n",
       "50.0      3354\n",
       "66.0      3295\n",
       "7.0       3286\n",
       "30.0      3250\n",
       "33.0      3157\n",
       "78.0      3036\n",
       "10.0      2971\n",
       "88.0      2927\n",
       "20.0      2914\n",
       "94.0      2810\n",
       "17.0      2508\n",
       "112.0     2422\n",
       "100.0     2238\n",
       "26.0      2231\n",
       "111.0     2165\n",
       "123.0     2026\n",
       "76.0      2025\n",
       "22.0       247\n",
       "Name: Precinct, dtype: int64"
      ]
     },
     "execution_count": 33,
     "metadata": {},
     "output_type": "execute_result"
    }
   ],
   "source": [
    "complaints['Precinct'].value_counts()"
   ]
  },
  {
   "cell_type": "code",
   "execution_count": 34,
   "metadata": {
    "collapsed": false
   },
   "outputs": [
    {
     "data": {
      "text/plain": [
       "INSIDE         188740\n",
       "FRONT OF        82181\n",
       "OPPOSITE OF      9699\n",
       "REAR OF          7622\n",
       "OUTSIDE           159\n",
       "Name: Location Description, dtype: int64"
      ]
     },
     "execution_count": 34,
     "metadata": {},
     "output_type": "execute_result"
    }
   ],
   "source": [
    "complaints['Location Description'].value_counts()"
   ]
  },
  {
   "cell_type": "code",
   "execution_count": 35,
   "metadata": {
    "collapsed": false,
    "scrolled": false
   },
   "outputs": [
    {
     "data": {
      "text/plain": [
       "STREET                          108644\n",
       "RESIDENCE - APT. HOUSE           78352\n",
       "RESIDENCE-HOUSE                  34176\n",
       "RESIDENCE - PUBLIC HOUSING       28945\n",
       "OTHER                            10429\n",
       "COMMERCIAL BUILDING               9407\n",
       "CHAIN STORE                       8992\n",
       "TRANSIT - NYC SUBWAY              8751\n",
       "DEPARTMENT STORE                  7740\n",
       "GROCERY/BODEGA                    5795\n",
       "PARK/PLAYGROUND                   4883\n",
       "RESTAURANT/DINER                  4754\n",
       "BAR/NIGHT CLUB                    4112\n",
       "DRUG STORE                        3583\n",
       "PUBLIC SCHOOL                     3516\n",
       "CLOTHING/BOUTIQUE                 2779\n",
       "FAST FOOD                         2077\n",
       "FOOD SUPERMARKET                  2070\n",
       "PUBLIC BUILDING                   2011\n",
       "HOTEL/MOTEL                       1909\n",
       "HOSPITAL                          1889\n",
       "PARKING LOT/GARAGE (PUBLIC)       1629\n",
       "PARKING LOT/GARAGE (PRIVATE)      1602\n",
       "BANK                              1547\n",
       "STORE UNCLASSIFIED                1457\n",
       "SMALL MERCHANT                    1356\n",
       "HIGHWAY/PARKWAY                   1313\n",
       "AIRPORT TERMINAL                  1248\n",
       "GYM/FITNESS FACILITY              1132\n",
       "BEAUTY & NAIL SALON               1062\n",
       "                                 ...  \n",
       "CHECK CASHING BUSINESS             437\n",
       "VARIETY STORE                      429\n",
       "OPEN AREAS (OPEN LOTS)             419\n",
       "BRIDGE                             412\n",
       "PRIVATE/PAROCHIAL SCHOOL           374\n",
       "LIQUOR STORE                       369\n",
       "TRANSIT FACILITY (OTHER)           360\n",
       "FACTORY/WAREHOUSE                  352\n",
       "ATM                                339\n",
       "STORAGE FACILITY                   293\n",
       "SHOE                               277\n",
       "BUS STOP                           265\n",
       "BUS TERMINAL                       252\n",
       "JEWELRY                            237\n",
       "SOCIAL CLUB/POLICY                 213\n",
       "TUNNEL                             183\n",
       "ABANDONED BUILDING                 176\n",
       "MARINA/PIER                        170\n",
       "FERRY/FERRY TERMINAL               155\n",
       "BUS (OTHER)                        141\n",
       "SYNAGOGUE                          124\n",
       "BOOK/CARD                           96\n",
       "MOSQUE                              75\n",
       "OTHER HOUSE OF WORSHIP              50\n",
       "VIDEO STORE                         49\n",
       "TAXI/LIVERY (UNLICENSED)            47\n",
       "PHOTO/COPY                          43\n",
       "LOAN COMPANY                        22\n",
       "CEMETERY                            21\n",
       "TRAMWAY                              2\n",
       "Name: Premises Type, dtype: int64"
      ]
     },
     "execution_count": 35,
     "metadata": {},
     "output_type": "execute_result"
    }
   ],
   "source": [
    "complaints['Premises Type'].value_counts()"
   ]
  }
 ],
 "metadata": {
  "kernelspec": {
   "display_name": "Python [conda env:311]",
   "language": "python",
   "name": "conda-env-311-py"
  },
  "language_info": {
   "codemirror_mode": {
    "name": "ipython",
    "version": 3
   },
   "file_extension": ".py",
   "mimetype": "text/x-python",
   "name": "python",
   "nbconvert_exporter": "python",
   "pygments_lexer": "ipython3",
   "version": "3.5.2"
  }
 },
 "nbformat": 4,
 "nbformat_minor": 2
}

{
 "cells": [
  {
   "cell_type": "code",
   "execution_count": 1,
   "metadata": {
    "collapsed": true
   },
   "outputs": [],
   "source": [
    "import pandas as pd\n",
    "pd.set_option(\"max_columns\", None)\n",
    "import matplotlib.pyplot as plt\n",
    "import seaborn as sns\n",
    "import numpy as np\n",
    "%matplotlib inline"
   ]
  },
  {
   "cell_type": "markdown",
   "metadata": {},
   "source": [
    "The goal of this notebook is to generate the files necessary for a treemap of New York City 311 Call complaint types. The result ought to be done in a reproducible way."
   ]
  },
  {
   "cell_type": "code",
   "execution_count": 2,
   "metadata": {
    "collapsed": false
   },
   "outputs": [
    {
     "name": "stderr",
     "output_type": "stream",
     "text": [
      "C:\\Users\\Alex\\Anaconda3\\envs\\311\\lib\\site-packages\\IPython\\core\\interactiveshell.py:2717: DtypeWarning: Columns (8,17,40,41,43,44,45,47,48,49) have mixed types. Specify dtype option on import or set low_memory=False.\n",
      "  interactivity=interactivity, compiler=compiler, result=result)\n"
     ]
    }
   ],
   "source": [
    "calls = pd.read_csv(\"../data/311_Service_Requests_from_2010_to_Present.csv\", index_col=0, encoding='latin-1')"
   ]
  },
  {
   "cell_type": "code",
   "execution_count": 3,
   "metadata": {
    "collapsed": false
   },
   "outputs": [
    {
     "data": {
      "text/plain": [
       "2230652"
      ]
     },
     "execution_count": 3,
     "metadata": {},
     "output_type": "execute_result"
    }
   ],
   "source": [
    "len(calls)"
   ]
  },
  {
   "cell_type": "code",
   "execution_count": 27,
   "metadata": {
    "collapsed": false
   },
   "outputs": [
    {
     "data": {
      "text/plain": [
       "Noise - Residential                  209823\n",
       "HEAT/HOT WATER                       195258\n",
       "Illegal Parking                      115522\n",
       "Blocked Driveway                     111245\n",
       "Street Condition                      86869\n",
       "Street Light Condition                84642\n",
       "UNSANITARY CONDITION                  76314\n",
       "Water System                          70430\n",
       "Noise - Street/Sidewalk               59729\n",
       "PAINT/PLASTER                         56833\n",
       "Noise                                 56179\n",
       "PLUMBING                              48655\n",
       "Noise - Commercial                    46433\n",
       "Homeless Person Assistance            43909\n",
       "Traffic Signal Condition              35184\n",
       "DOOR/WINDOW                           35020\n",
       "Sanitation Condition                  33547\n",
       "Dirty Conditions                      32608\n",
       "Sewer                                 31641\n",
       "Rodent                                30184\n",
       "WATER LEAK                            29988\n",
       "General Construction/Plumbing         28794\n",
       "Missed Collection (All Materials)     28145\n",
       "Derelict Vehicle                      27655\n",
       "DOF Literature Request                27439\n",
       "Derelict Vehicles                     26593\n",
       "ELECTRIC                              26235\n",
       "Building/Use                          26144\n",
       "GENERAL                               25103\n",
       "Benefit Card Replacement              23772\n",
       "                                      ...  \n",
       "Advocate-Prop Refunds/Credits            10\n",
       "ATF                                       9\n",
       "Radioactive Material                      9\n",
       "Calorie Labeling                          9\n",
       "Standpipe - Mechanical                    9\n",
       "Advocate-Property Value                   7\n",
       "Hazmat Storage/Use                        6\n",
       "Public Assembly - Temporary               5\n",
       "Advocate-UBT                              5\n",
       "SRDE                                      5\n",
       "Squeegee                                  5\n",
       "Healthcare Facilities                     5\n",
       "NORC Complaint                            4\n",
       "Request Xmas Tree Collection              3\n",
       "Trans Fat                                 3\n",
       "Interior Demo                             3\n",
       "Advocate-Commercial Exemptions            3\n",
       "VACANT APARTMENT                          2\n",
       "Advocate-SCRIE/DRIE                       2\n",
       "Construction                              2\n",
       "AGENCY                                    2\n",
       "Advocate-Business Tax                     2\n",
       "Laboratory                                2\n",
       "Gas Station Discharge Lines               1\n",
       "Trapping Pigeon                           1\n",
       "LEAD                                      1\n",
       "Building Condition                        1\n",
       "MOLD                                      1\n",
       "Asbestos/Garbage Nuisance                 1\n",
       "Advocate - RPIE                           1\n",
       "Name: Complaint Type, dtype: int64"
      ]
     },
     "execution_count": 27,
     "metadata": {},
     "output_type": "execute_result"
    }
   ],
   "source": [
    "calls['Complaint Type'].value_counts()"
   ]
  },
  {
   "cell_type": "markdown",
   "metadata": {},
   "source": [
    "These are a combination of not granular enough, too granular, and weirdly named. For a proper treemap, we'll need to generate our own categories.\n",
    "\n",
    "The cells below represent almost two hours of work doing so..."
   ]
  },
  {
   "cell_type": "code",
   "execution_count": 3,
   "metadata": {
    "collapsed": false
   },
   "outputs": [
    {
     "data": {
      "text/plain": [
       "250"
      ]
     },
     "execution_count": 3,
     "metadata": {},
     "output_type": "execute_result"
    }
   ],
   "source": [
    "len(calls['Complaint Type'].value_counts())"
   ]
  },
  {
   "cell_type": "code",
   "execution_count": 4,
   "metadata": {
    "collapsed": true
   },
   "outputs": [],
   "source": [
    "complaint_types = calls['Complaint Type'].value_counts().index"
   ]
  },
  {
   "cell_type": "code",
   "execution_count": 40,
   "metadata": {
    "collapsed": true
   },
   "outputs": [],
   "source": [
    "i = -1"
   ]
  },
  {
   "cell_type": "code",
   "execution_count": 5,
   "metadata": {
    "collapsed": false
   },
   "outputs": [
    {
     "data": {
      "text/plain": [
       "Index(['Noise - Residential', 'HEAT/HOT WATER', 'Illegal Parking',\n",
       "       'Blocked Driveway', 'Street Condition', 'Street Light Condition',\n",
       "       'UNSANITARY CONDITION', 'Water System', 'Noise - Street/Sidewalk',\n",
       "       'PAINT/PLASTER',\n",
       "       ...\n",
       "       'Advocate-Business Tax', 'Advocate-SCRIE/DRIE', 'Laboratory',\n",
       "       'Advocate - RPIE', 'Asbestos/Garbage Nuisance', 'MOLD',\n",
       "       'Gas Station Discharge Lines', 'Building Condition', 'LEAD',\n",
       "       'Trapping Pigeon'],\n",
       "      dtype='object', length=250)"
      ]
     },
     "execution_count": 5,
     "metadata": {},
     "output_type": "execute_result"
    }
   ],
   "source": [
    "complaint_types"
   ]
  },
  {
   "cell_type": "code",
   "execution_count": 519,
   "metadata": {
    "collapsed": false,
    "scrolled": true
   },
   "outputs": [
    {
     "data": {
      "text/plain": [
       "'Noise'"
      ]
     },
     "execution_count": 519,
     "metadata": {},
     "output_type": "execute_result"
    }
   ],
   "source": [
    "complaint_types[10]"
   ]
  },
  {
   "cell_type": "code",
   "execution_count": 520,
   "metadata": {
    "collapsed": false
   },
   "outputs": [],
   "source": [
    "complaint_typification = [\n",
    "    ['Noise', 'Residential Noise'],\n",
    "    ['Heat or Water', 'Unspecified Heat or Water Issue'],\n",
    "    ['Illegal Parking', 'Unspecified Parking Violation'],\n",
    "    ['Illegal Parking', 'Blocked Driveway'],\n",
    "    ['Street Condition', 'Unspecified Street Condition'],\n",
    "    ['Street Condition', 'Street Light'],\n",
    "    ['Sanitation', 'Unspecified Sanitation Issue'],\n",
    "    ['Heat or Water', 'Water System'],\n",
    "    ['Noise', 'Street or Sidewalk'],\n",
    "    ['Building Maintenance', 'Paint or Plaster'],\n",
    "    ['Noise', 'Unspecified Noise'],\n",
    "    ['Heat or Water', 'Plumbing'],\n",
    "    ['Noise', 'Commerical Noise'],\n",
    "    ['Homelessness', 'Homelessness Assistance'],\n",
    "    ['Street Condition', 'Traffic Signal'],\n",
    "    ['Building Maintenance', 'Door or Window'],\n",
    "    ['Sanitation', 'Unspecified Sanitation Issue'],\n",
    "    ['Sanitation', 'Unspecified Sanitation Issue'],        \n",
    "    ['Sanitation', 'Sewer'],\n",
    "    ['Sanitation', 'Rodent'],\n",
    "    ['Heat or Water', 'Water Leak'],\n",
    "    ['Building Maintenance', 'General Construction'],\n",
    "    ['Sanitation', 'Missed Collections'],\n",
    "    ['Illegal Parking', 'Derelict Vehicle'],\n",
    "    ['Paperwork', 'Literature Request'],\n",
    "    ['Illegal Parking', 'Derelict Vehicle'],\n",
    "    ['Building Maintenance', 'Electrical'],\n",
    "    ['Building Maintenance', 'Illegal Conversion'],\n",
    "    ['Consumer Complaint', 'Unspecified Consumer Complaint'],\n",
    "    ['Paperwork', 'Benefit Card Replacement'],\n",
    "    ['Greenery', 'Damaged Tree'],\n",
    "    ['Street Condition', 'Broken Parking Meter'],\n",
    "    ['Building Maintenance', 'Flooring or Stairs'],\n",
    "    ['Noise', 'Vehicle Noise'],\n",
    "    ['Greenery', 'New Tree Request'],\n",
    "    ['Consumer Complaint', 'Unspecified Consumer Complaint'],\n",
    "    ['Consumer Complaint', 'Taxi Complaint'],\n",
    "    ['Building Maintenance', 'Unspecified Maintenance Issue'],    \n",
    "    ['Greenery', 'Overgrowth'],\n",
    "    ['Crime', 'Graffiti'],\n",
    "    ['General', 'Miscellaneous Issue'],\n",
    "    ['Building Maintenance', 'Elevator'],\n",
    "    ['Building Maintenance', 'Lead'],\n",
    "    ['Greenery', 'Dead Tree'],\n",
    "    ['Consumer Complaint', 'Food Establishment Complaint'],\n",
    "    ['Animal Issues', 'Animal Abuse'],\n",
    "    ['Property and Housing', 'Property Reduction'],\n",
    "    ['Crime', 'Non-Emergency Police Matter'],\n",
    "    ['Air Quality', 'Unspecified Air Quality Issue'],\n",
    "    ['Crime', 'Unspecified Crime'],\n",
    "    ['Building Maintenance', 'Sewer or Sidewalk'],\n",
    "    ['General', 'Miscellaneous Issue'],\n",
    "    ['Street Condition', 'Damaged Sign'],\n",
    "    ['Property and Housing', 'Rent Increase Exemption'],\n",
    "    ['Property and Housing', 'Property Account Update'],\n",
    "    ['Street Condition', 'Sidewalk Condition'],\n",
    "    ['Property and Housing', 'Low Income Senior Citizen Housing'],\n",
    "    ['Consumer Complaint', 'For Hire Vehicle'],\n",
    "    ['Property and Housing', 'Property Document Request'],\n",
    "    ['Sanitation', 'Standing Water'],\n",
    "    ['Street Condition', 'Traffic'],\n",
    "    ['Street Condition', 'Snow'],\n",
    "    ['Homelessness', 'Homeless Encampment'],\n",
    "    ['Fire Safety', 'Fire Safety Director On-Site Exam Scheduling'],\n",
    "    ['Consumer Complaint', 'Street Vendor Complaint'],\n",
    "    ['Street Condition', 'Missing Sign'],    \n",
    "    ['Air Quality', 'Indoor Air Quality'],\n",
    "    ['Heat or Water', 'Water Conservation'],\n",
    "    ['Heat or Water', 'Plumbing'],\n",
    "    ['Property and Housing', 'Payment Issue'],\n",
    "    ['Noise', 'Park'],\n",
    "    ['Paperwork', 'Parking Status Request'],\n",
    "    ['Street Condition', 'Highway Problem'],\n",
    "    ['General', 'Miscellaneous Issue'],\n",
    "    ['General', 'Miscellaneous Issue'],\n",
    "    ['General', 'Miscellaneous Issue'],\n",
    "    ['Paperwork', 'Literature Request'],\n",
    "    ['Consumer Complaint', 'Food Poisoning'],\n",
    "    ['Building Maintenance', 'Electrical'], # TODO: Possibly street condition though?\n",
    "    ['Sanitation', 'Hazardous Materials'],\n",
    "    ['Greenery', 'Illegal Tree Damage'],\n",
    "    ['Paperwork', 'Literature Request'],\n",
    "    ['Sanitation', 'Electronic Waste Disposal'],\n",
    "    ['Street Condition', 'Curb Condition'],\n",
    "    ['Consumer Complaint', 'Taxi Complaint'],\n",
    "    ['Sanitation', 'Litter Basket Request'],\n",
    "    ['Greenery', 'Parks Violation'],\n",
    "    ['Animal Issues', 'Unsanitary Animal'],\n",
    "    ['Sanitation', 'Vacant Lot Condition'],\n",
    "    ['Street Condition', 'Damaged Sign'],\n",
    "    ['Building Maintenance', 'Asbestos'],\n",
    "    ['Animal Issues', 'Animal in a Park'],\n",
    "    ['Greenery', 'Parks Violation'],\n",
    "    ['Paperwork', 'DCA or DOH License'],\n",
    "    ['Street Condition', 'Derelict Bicycle'],\n",
    "    ['Property and Housing', 'Unspecified Issue'],\n",
    "    ['Building Maintenance', 'Schools'],\n",
    "    ['Property and Housing', 'Unspecified Issue'],\n",
    "    ['Heat or Water', 'Boilers'],\n",
    "    ['Air Quality', 'Smoking'],\n",
    "    ['Crime', 'Illegal Alcohol'],\n",
    "    ['Heat or Water', 'Water Quality'],\n",
    "    ['Sanitation', 'Industrial Waste'],\n",
    "    ['Sanitation', 'Indoor Sewage'],\n",
    "    ['Sanitation', 'Overflowing Litter Basket'],\n",
    "    ['Crime', 'Posting Advertisement'],\n",
    "    ['Paperwork', 'Parking Status Request'],\n",
    "    ['General', 'Miscellaneous Issue'],\n",
    "    ['Noise', 'Helicopter'],\n",
    "    ['Sanitation', 'Mosquitoes'],\n",
    "    ['Consumer Complaint', 'Cable Complaint'],\n",
    "    ['Heat or Water', 'Non-Residential Heat'],\n",
    "    ['Building Maintenance', 'Elevator'],\n",
    "    ['Street Condition', 'Broken Parking Meter'],\n",
    "    ['Noise', 'Place of Worship'],\n",
    "    ['Fire Safety', 'Inspection'], # possibly Fire?\n",
    "    ['General', 'Miscellaneous Issue'],\n",
    "    ['Sanitation', 'Sweeping'],\n",
    "    ['Sanitation', 'Unsanitary Pigeon Condition'],\n",
    "    ['Sanitation', 'Recycling Enforcement'],\n",
    "    ['Paperwork', 'Parking Status Request'],\n",
    "    ['Animal Issues', 'Unleashed Dog'],\n",
    "    ['Public Transit', 'Ferry Inquiry or Complaint'],\n",
    "    ['Property and Housing', 'Rent Increase Exemption'],\n",
    "    ['Paperwork', 'Parking Status Request'],\n",
    "    ['General', 'Daycare Inquiry'],\n",
    "    ['Construction', 'Site Safety'],\n",
    "    ['Homelessness', 'Panhandling'],\n",
    "    ['Crime', 'Urinating in Public'],\n",
    "    ['Crime', 'Elder Abuse'],\n",
    "    ['Paperwork', 'Literature Request'],\n",
    "    ['Consumer Complaint', 'Taxi Complaint'],\n",
    "    ['General', 'Miscellaneous Issue'],\n",
    "    ['Consumer Complaint', 'Paid Professional'],\n",
    "    ['Consumer Complaint', 'For Hire Vehicle'],\n",
    "    ['Consumer Complaint', 'Senior Center'],\n",
    "    ['Greenery', 'Dead or Dying Tree'],\n",
    "    ['Noise', 'Public Assembly'],\n",
    "    ['Illegal Parking', 'Unspecified Parking Violation'],\n",
    "    ['Construction', 'Site Safety'],\n",
    "    ['Street Condition', 'Bridge or Tunnel'],\n",
    "    ['Street Condition', 'Payphone or LinkNYC'],\n",
    "    ['Sanitation', 'Mold'],\n",
    "    ['General', 'Found Property'],\n",
    "    ['Animal Issues', 'Illegal Animal'],\n",
    "    ['Construction', 'Site Safety'],\n",
    "    ['Fire Safety', 'Fire Alarm'],\n",
    "    ['Sanitation', 'Sweeping'],\n",
    "    ['Crime', 'Drug Activity'],\n",
    "    ['Paperwork', 'Literature Request'],\n",
    "    ['Property and Housing', 'Real Property Income and Expense Issue'],\n",
    "    ['Crime', 'Disorderly Youth'],\n",
    "    ['Greenery', 'Unspecified Greenery Issue'],\n",
    "    ['General', 'Alzheimer Care'],\n",
    "    ['Public Transit', 'Ferry Inquiry or Complaint'],\n",
    "    ['Crime', 'Illegal Fireworks'],\n",
    "    ['Property and Housing', 'Property Reduction'],\n",
    "    ['Paperwork', 'Miscellaneous Paperwork'],\n",
    "    ['Public Transit', 'Bus Stop Shelter Placement'],\n",
    "    ['Noise', 'Sanitation Trucks'],\n",
    "    ['General', 'Complaint'],\n",
    "    ['Animal Issues', 'Harboring Bees or Wasps'],\n",
    "    ['Consumer Complaint', 'Beach or Pool or Sauna'],\n",
    "    ['General', 'Special Enforcement'],\n",
    "    ['Sanitation', 'Litter Basket Request'],\n",
    "    ['Heat or Water', 'Water Quality'],\n",
    "    ['Greenery', 'Poison Ivy'],\n",
    "    ['Fire Safety', 'Fire Alarm'],\n",
    "    ['Paperwork', 'Parking Status Request'],\n",
    "    ['Noise', 'Public Assembly'],\n",
    "    ['Street Condition', 'Bike Rack'],\n",
    "    ['Consumer Complaint', 'Home Delivered Meal'],\n",
    "    ['Fire Safety', 'Fire Alarm'],\n",
    "    ['Paperwork', 'Literature Request'],\n",
    "    ['General', 'Miscellaneous Issue'],\n",
    "    ['Greenery', 'Parks Violation'],\n",
    "    ['Consumer Complaint', 'Home Delivered Meal'],\n",
    "    ['Paperwork', 'Miscellaneous Paperwork'],\n",
    "    ['Public Transit', 'Ferry Inquiry or Complaint'],\n",
    "    ['Street Condition', 'Damaged Sign'],\n",
    "    ['Paperwork', 'Literature Request'],\n",
    "    ['General', 'Miscellaneous Issue'],\n",
    "    ['General', 'Miscellaneous Issue'],\n",
    "    ['Paperwork', 'Literature Request'],\n",
    "    ['Consumer Complaint', 'Parking Facility'],\n",
    "    ['General', 'Miscellaneous Issue'],\n",
    "    ['Animal Issues', 'Animal Facility Issue'],\n",
    "    ['Animal Issues', 'Illegal Animal'],\n",
    "    ['Animal Issues', 'Animal Facility Issue'],\n",
    "    ['Building Maintenance', 'Door or Window'],\n",
    "    ['General', 'Miscellaneous Issue'],\n",
    "    ['Illegal Parking', 'Derelict Vehicle'],\n",
    "    ['Street Condition', 'Payphone or LinkNYC'],\n",
    "    ['Sanitation', 'Public Toilet'],\n",
    "    ['General', 'Miscellaneous Issue'],\n",
    "    ['Sanitation', 'Overflowing Litter Basket'],\n",
    "    ['Sanitation', 'Sweeping'],\n",
    "    ['Fire Safety', 'Food Preparation Fire Safety'],\n",
    "    ['General', 'Miscellaneous Issue'], # \"Research\"\n",
    "    ['General', 'Miscellaneous Issue'],\n",
    "    ['Consumer Complaint', 'Home Care Provider'],\n",
    "    ['General', 'Miscellaneous Issue'],\n",
    "    ['Fire Safety', 'Food Preparation Fire Safety'],\n",
    "    ['Street Condition', 'Missing Sign'],\n",
    "    ['Street Condition', 'Damaged Sign'],\n",
    "    ['Heat or Water', 'Water System'],\n",
    "    ['Paperwork', 'Parking Status Request'],\n",
    "    ['General', 'Miscellaneous Issue'],\n",
    "    ['Paperwork', 'Literature Request'],\n",
    "    ['Fire Safety', 'Fire Alarm'],\n",
    "    ['General', 'Miscellaneous Issue'],\n",
    "    ['Consumer Complaint', 'Paid Professional'],\n",
    "    ['General', 'Miscellaneous Issue'],\n",
    "    ['Property and Housing', 'Property Account Update'],\n",
    "    ['Street Condition', 'Bridge or Tunnel'],\n",
    "    ['Fire Safety', 'Fire Alarm'],\n",
    "    ['Consumer Complaint', 'For Hire Vehicle'],\n",
    "    ['General', 'Miscellaneous Issue'],\n",
    "    ['General', 'Miscellaneous Issue'],\n",
    "    ['General', 'Miscellaneous Issue'],\n",
    "    ['General', 'Miscellaneous Issue'],\n",
    "    ['General', 'Miscellaneous Issue'],\n",
    "    ['Sanitation', 'Hazardous Materials'],\n",
    "    ['General', 'Miscellaneous Issue'],\n",
    "    ['General', 'Miscellaneous Issue'],\n",
    "    ['General', 'Miscellaneous Issue'],\n",
    "    ['Sanitation', 'Hazardous Materials'],\n",
    "    ['Noise', 'Public Assembly'],\n",
    "    ['General', 'Miscellaneous Issue'],\n",
    "    ['General', 'Miscellaneous Issue'],\n",
    "    ['General', 'Miscellaneous Issue'],\n",
    "    ['General', 'Miscellaneous Issue'], # Squeegee!\n",
    "    ['General', 'Miscellaneous Issue'],\n",
    "    ['General', 'Miscellaneous Issue'],\n",
    "    ['General', 'Miscellaneous Issue'],\n",
    "    ['General', 'Miscellaneous Issue'],\n",
    "    ['General', 'Miscellaneous Issue'],\n",
    "    ['General', 'Miscellaneous Issue'],\n",
    "    ['General', 'Miscellaneous Issue'],\n",
    "    ['General', 'Miscellaneous Issue'],\n",
    "    ['Construction', 'Site Safety'],\n",
    "    ['General', 'Miscellaneous Issue'],\n",
    "    ['General', 'Miscellaneous Issue'],\n",
    "    ['General', 'Miscellaneous Issue'],\n",
    "    ['General', 'Miscellaneous Issue'], # Trapping Pigeon...?\n",
    "    ['Building Maintenance', 'Unspecified Maintenance Issue'],\n",
    "    ['Building Maintenance', 'Unspecified Maintenance Issue'],\n",
    "    ['Sanitation', 'Mold'],\n",
    "    ['General', 'Miscellaneous Issue'],\n",
    "    ['General', 'Miscellaneous Issue']\n",
    "]"
   ]
  },
  {
   "cell_type": "code",
   "execution_count": 521,
   "metadata": {
    "collapsed": false
   },
   "outputs": [],
   "source": [
    "complaint_type_map = {z[0]: z[1] for z in zip(calls['Complaint Type'].value_counts().index,\n",
    "                                              [t[0] for t in complaint_typification])}"
   ]
  },
  {
   "cell_type": "code",
   "execution_count": 522,
   "metadata": {
    "collapsed": true
   },
   "outputs": [],
   "source": [
    "complaint_subtype_map = {z[0]: z[1] for z in zip(calls['Complaint Type'].value_counts().index,\n",
    "                                                 [t[1] for t in complaint_typification])}"
   ]
  },
  {
   "cell_type": "code",
   "execution_count": 523,
   "metadata": {
    "collapsed": true
   },
   "outputs": [],
   "source": [
    "calls['Generalized Complaint Type'] = calls['Complaint Type'].map(complaint_type_map)"
   ]
  },
  {
   "cell_type": "code",
   "execution_count": 524,
   "metadata": {
    "collapsed": true
   },
   "outputs": [],
   "source": [
    "calls['Generalized Complaint Subtype'] = calls['Complaint Type'].map(complaint_subtype_map)"
   ]
  },
  {
   "cell_type": "markdown",
   "metadata": {},
   "source": [
    "This particular map will only work when applied to the data in its current form. The addition of even a single new entry type or the movement of various entry types around as a natural result of increasing call volumes in a future or different version of the dataset being ingested will invalidate the entire experiment and require starting all over again.\n",
    "\n",
    "Obviously we don't want to do that.\n",
    "\n",
    "The solution is to save the intermediate products, the maps, to CSV and Pickle files.\n",
    "\n",
    "In a future version of this code, running in a future notebook, we will load these intermediates and use them to classify the bulk of the records that we have, leaving just a few left over that we still need to deal with."
   ]
  },
  {
   "cell_type": "code",
   "execution_count": 525,
   "metadata": {
    "collapsed": false
   },
   "outputs": [],
   "source": [
    "pd.DataFrame(index=calls['Complaint Type'].value_counts().index,\n",
    "             data={\n",
    "        'Generalized Complaint Type': [complaint_type_map[t] for t in calls['Complaint Type'].value_counts().index],\n",
    "        'Generalized Complaint Subtype': [complaint_subtype_map[t] for t in calls['Complaint Type'].value_counts().index]\n",
    "}).to_csv(\"../data/complaint_mapping.csv\")"
   ]
  },
  {
   "cell_type": "code",
   "execution_count": 526,
   "metadata": {
    "collapsed": true
   },
   "outputs": [],
   "source": [
    "import pickle\n",
    "pickle.dump(complaint_type_map, open(\"../data/complaint_type_map.p\", \"wb\" ))\n",
    "pickle.dump(complaint_subtype_map, open(\"../data/complaint_subtype_map.p\", \"wb\" ))"
   ]
  },
  {
   "cell_type": "markdown",
   "metadata": {},
   "source": [
    "Let's save the version of the data that we've generated. Since this is a large file, we'll save it in place, meaning that we'll overwrite the existing version of the file. This should be safe, since we haven't modified any columns, just added new ones."
   ]
  },
  {
   "cell_type": "markdown",
   "metadata": {},
   "source": [
    "Now let's save the actual data to a JSON file."
   ]
  },
  {
   "cell_type": "code",
   "execution_count": 527,
   "metadata": {
    "collapsed": true
   },
   "outputs": [],
   "source": [
    "pd.set_option('max_rows', 500)"
   ]
  },
  {
   "cell_type": "code",
   "execution_count": 528,
   "metadata": {
    "collapsed": false,
    "scrolled": false
   },
   "outputs": [
    {
     "data": {
      "text/plain": [
       "Generalized Complaint Type  Generalized Complaint Subtype               \n",
       "Air Quality                 Indoor Air Quality                                4137\n",
       "                            Smoking                                           1541\n",
       "                            Unspecified Air Quality Issue                     8349\n",
       "Animal Issues               Animal Abuse                                      9410\n",
       "                            Animal Facility Issue                              112\n",
       "                            Animal in a Park                                  1791\n",
       "                            Harboring Bees or Wasps                            176\n",
       "                            Illegal Animal                                     328\n",
       "                            Unleashed Dog                                      587\n",
       "                            Unsanitary Animal                                 2119\n",
       "Building Maintenance        Asbestos                                          1999\n",
       "                            Door or Window                                   35069\n",
       "                            Electrical                                       29436\n",
       "                            Elevator                                         12759\n",
       "                            Flooring or Stairs                               23384\n",
       "                            General Construction                             28794\n",
       "                            Illegal Conversion                               26144\n",
       "                            Lead                                             11185\n",
       "                            Paint or Plaster                                 56833\n",
       "                            Schools                                           1661\n",
       "                            Sewer or Sidewalk                                 7790\n",
       "                            Unspecified Maintenance Issue                    14184\n",
       "Construction                Site Safety                                       1083\n",
       "Consumer Complaint          Beach or Pool or Sauna                             167\n",
       "                            Cable Complaint                                    961\n",
       "                            Food Establishment Complaint                      9922\n",
       "                            Food Poisoning                                    3209\n",
       "                            For Hire Vehicle                                  6011\n",
       "                            Home Care Provider                                  27\n",
       "                            Home Delivered Meal                                188\n",
       "                            Paid Professional                                  420\n",
       "                            Parking Facility                                    66\n",
       "                            Senior Center                                      367\n",
       "                            Street Vendor Complaint                           4544\n",
       "                            Taxi Complaint                                   18018\n",
       "                            Unspecified Consumer Complaint                   40681\n",
       "Crime                       Disorderly Youth                                   227\n",
       "                            Drug Activity                                      246\n",
       "                            Elder Abuse                                        453\n",
       "                            Graffiti                                         12165\n",
       "                            Illegal Alcohol                                   1509\n",
       "                            Illegal Fireworks                                  209\n",
       "                            Non-Emergency Police Matter                       8837\n",
       "                            Posting Advertisement                             1078\n",
       "                            Unspecified Crime                                 8126\n",
       "                            Urinating in Public                                464\n",
       "Fire Safety                 Fire Alarm                                         503\n",
       "                            Fire Safety Director On-Site Exam Scheduling      4792\n",
       "                            Food Preparation Fire Safety                        53\n",
       "                            Inspection                                         821\n",
       "General                     Alzheimer Care                                     217\n",
       "                            Complaint                                          187\n",
       "                            Daycare Inquiry                                    514\n",
       "                            Found Property                                     275\n",
       "                            Miscellaneous Issue                              31968\n",
       "                            Special Enforcement                                158\n",
       "Greenery                    Damaged Tree                                     23493\n",
       "                            Dead Tree                                        10055\n",
       "                            Dead or Dying Tree                                 347\n",
       "                            Illegal Tree Damage                               2869\n",
       "                            New Tree Request                                 17581\n",
       "                            Overgrowth                                       12431\n",
       "                            Parks Violation                                   4099\n",
       "                            Poison Ivy                                         131\n",
       "                            Unspecified Greenery Issue                         218\n",
       "Heat or Water               Boilers                                           1583\n",
       "                            Non-Residential Heat                               923\n",
       "                            Plumbing                                         52604\n",
       "                            Unspecified Heat or Water Issue                 195258\n",
       "                            Water Conservation                                4024\n",
       "                            Water Leak                                       29988\n",
       "                            Water Quality                                     1534\n",
       "                            Water System                                     70451\n",
       "Homelessness                Homeless Assistance                                464\n",
       "                            Homeless Encampment                               5040\n",
       "                            Homelessness Assistance                          43909\n",
       "Illegal Parking             Blocked Driveway                                111245\n",
       "                            Derelict Vehicle                                 54292\n",
       "                            Unspecified Parking Violation                   115853\n",
       "Noise                       Commerical Noise                                 46433\n",
       "                            Helicopter                                         983\n",
       "                            Park                                              3856\n",
       "                            Place of Worship                                   876\n",
       "                            Public Assembly                                    458\n",
       "                            Residential Noise                               209823\n",
       "                            Sanitation Trucks                                  191\n",
       "                            Street or Sidewalk                               59729\n",
       "                            Unspecified Noise                                56179\n",
       "                            Vehicle Noise                                    23053\n",
       "Paperwork                   Benefit Card Replacement                         23772\n",
       "                            DCA or DOH License                                1754\n",
       "                            Literature Request                               34540\n",
       "                            Miscellaneous Paperwork                            280\n",
       "                            Parking Status Request                            6120\n",
       "Property and Housing        Low Income Senior Citizen Housing                 5701\n",
       "                            Payment Issue                                     3877\n",
       "                            Property Account Update                           6259\n",
       "                            Property Document Request                         5575\n",
       "                            Property Reduction                                9415\n",
       "                            Real Property Income and Expense Issue             237\n",
       "                            Rent Increase Exemption                           6839\n",
       "                            Unspecified Issue                                 3291\n",
       "Public Transit              Bus Stop Shelter Placement                         195\n",
       "                            Ferry Inquiry or Complaint                         851\n",
       "Sanitation                  Electronic Waste Disposal                         2777\n",
       "                            Hazardous Materials                               3033\n",
       "                            Indoor Sewage                                     1168\n",
       "                            Industrial Waste                                  1344\n",
       "                            Litter Basket Request                             2711\n",
       "                            Missed Collections                               28145\n",
       "                            Mold                                               298\n",
       "                            Mosquitoes                                         965\n",
       "                            Overflowing Litter Basket                         1158\n",
       "                            Public Toilet                                       38\n",
       "                            Recycling Enforcement                              620\n",
       "                            Rodent                                           30184\n",
       "                            Sewer                                            31641\n",
       "                            Standing Water                                    5478\n",
       "                            Sweeping                                           957\n",
       "                            Unsanitary Pigeon Condition                        620\n",
       "                            Unspecified Sanitation Issue                    142469\n",
       "                            Vacant Lot Condition                              2106\n",
       "Street Condition            Bike Rack                                          106\n",
       "                            Bridge or Tunnel                                   340\n",
       "                            Broken Parking Meter                             24370\n",
       "                            Curb Condition                                    2697\n",
       "                            Damaged Sign                                      8827\n",
       "                            Derelict Bicycle                                  1738\n",
       "                            Highway Problem                                   3659\n",
       "                            Missing Sign                                      4513\n",
       "                            Payphone or LinkNYC                                341\n",
       "                            Sidewalk Condition                                6005\n",
       "                            Snow                                              5323\n",
       "                            Street Light                                     84642\n",
       "                            Traffic                                           5393\n",
       "                            Traffic Signal                                   35184\n",
       "                            Unspecified Street Condition                     86869\n",
       "Name: Complaint Type, dtype: int64"
      ]
     },
     "execution_count": 528,
     "metadata": {},
     "output_type": "execute_result"
    }
   ],
   "source": [
    "calls.groupby(['Generalized Complaint Type', 'Generalized Complaint Subtype'])['Complaint Type'].count()"
   ]
  },
  {
   "cell_type": "code",
   "execution_count": 529,
   "metadata": {
    "collapsed": false
   },
   "outputs": [],
   "source": [
    "types = calls.groupby(['Generalized Complaint Type', 'Generalized Complaint Subtype'])['Complaint Type'].count().reset_index()"
   ]
  },
  {
   "cell_type": "code",
   "execution_count": 530,
   "metadata": {
    "collapsed": false
   },
   "outputs": [],
   "source": [
    "types.columns = ['Type', 'Subtype', 'Count']"
   ]
  },
  {
   "cell_type": "code",
   "execution_count": 531,
   "metadata": {
    "collapsed": false,
    "scrolled": false
   },
   "outputs": [],
   "source": [
    "types.to_csv(\"complaint_types_2.csv\", index=False)"
   ]
  },
  {
   "cell_type": "code",
   "execution_count": 532,
   "metadata": {
    "collapsed": true
   },
   "outputs": [],
   "source": [
    "types.to_csv(\"C:/Users/Alex/Desktop/d3-data/data/complaint_types_2.csv\", index=False)"
   ]
  },
  {
   "cell_type": "markdown",
   "metadata": {},
   "source": [
    "The issue: I want to build a treemap using this data, but many of these numbers are just too small! Plus, building a treemap using D3 is *hard*.\n",
    "\n",
    "The other issue: this is not appropriate for the data science project.\n",
    "\n",
    "The other other issue: this is only interesting with a full year's data.\n",
    "\n",
    "The solution: wait until a full year of data comes in, then return to this project as the first of my major D3 projects in the new year."
   ]
  }
 ],
 "metadata": {
  "anaconda-cloud": {},
  "kernelspec": {
   "display_name": "Python [conda env:311]",
   "language": "python",
   "name": "conda-env-311-py"
  },
  "language_info": {
   "codemirror_mode": {
    "name": "ipython",
    "version": 3
   },
   "file_extension": ".py",
   "mimetype": "text/x-python",
   "name": "python",
   "nbconvert_exporter": "python",
   "pygments_lexer": "ipython3",
   "version": "3.5.2"
  }
 },
 "nbformat": 4,
 "nbformat_minor": 2
}

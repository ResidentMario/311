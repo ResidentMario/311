{
 "cells": [
  {
   "cell_type": "code",
   "execution_count": 1,
   "metadata": {
    "collapsed": true
   },
   "outputs": [],
   "source": [
    "import pandas as pd\n",
    "pd.set_option(\"max_columns\", None)\n",
    "import matplotlib.pyplot as plt\n",
    "import seaborn as sns\n",
    "import numpy as np\n",
    "%matplotlib inline"
   ]
  },
  {
   "cell_type": "code",
   "execution_count": 2,
   "metadata": {
    "collapsed": false
   },
   "outputs": [
    {
     "name": "stderr",
     "output_type": "stream",
     "text": [
      "C:\\Users\\Alex\\Anaconda3\\envs\\311\\lib\\site-packages\\IPython\\core\\interactiveshell.py:2717: DtypeWarning: Columns (8,17,40,41,43,44,45,47,48,49) have mixed types. Specify dtype option on import or set low_memory=False.\n",
      "  interactivity=interactivity, compiler=compiler, result=result)\n"
     ]
    }
   ],
   "source": [
    "calls = pd.read_csv(\"../data/311_Service_Requests_from_2010_to_Present.csv\", index_col=0)"
   ]
  },
  {
   "cell_type": "code",
   "execution_count": 4,
   "metadata": {
    "collapsed": true
   },
   "outputs": [],
   "source": [
    "pd_calls = calls.query('Agency == \"NYPD\"')"
   ]
  },
  {
   "cell_type": "code",
   "execution_count": 6,
   "metadata": {
    "collapsed": false
   },
   "outputs": [
    {
     "data": {
      "text/plain": [
       "The Police Department responded to the complaint and with the information available observed no evidence of the violation at that time.                                                                                                                                                                                                                                                                                                                                                                               227891\n",
       "The Police Department responded to the complaint and took action to fix the condition.                                                                                                                                                                                                                                                                                                                                                                                                                                145417\n",
       "The Police Department responded and upon arrival those responsible for the condition were gone.                                                                                                                                                                                                                                                                                                                                                                                                                        84235\n",
       "The Police Department responded to the complaint and determined that police action was not necessary.                                                                                                                                                                                                                                                                                                                                                                                                                  73532\n",
       "The Police Department issued a summons in response to the complaint.                                                                                                                                                                                                                                                                                                                                                                                                                                                   39773\n",
       "The Police Department reviewed your complaint and provided additional information below.                                                                                                                                                                                                                                                                                                                                                                                                                               32195\n",
       "The Police Department responded to the complaint but officers were unable to gain entry into the premises.                                                                                                                                                                                                                                                                                                                                                                                                             11846\n",
       "Your request can not be processed at this time because of insufficient contact information. Please create a new Service Request on NYC.gov and provide more detailed contact information.                                                                                                                                                                                                                                                                                                                              11505\n",
       "This complaint does not fall under the Police Department's jurisdiction.                                                                                                                                                                                                                                                                                                                                                                                                                                                3851\n",
       "Your complaint has been forwarded to the New York Police Department for a non-emergency response. 311 will have additional information in 8 hours. Please note your service request number for future reference.                                                                                                                                                                                                                                                                                                        2607\n",
       "The Police Department responded to the complaint and a report was prepared.                                                                                                                                                                                                                                                                                                                                                                                                                                             2396\n",
       "The Police Department made an arrest in response to the complaint.                                                                                                                                                                                                                                                                                                                                                                                                                                                       284\n",
       "Your complaint has been forwarded to the New York Police Department for a non-emergency response. If the police determine the vehicle is illegally parked, they will ticket the vehicle and then you may either contact a private towing company to remove the vehicle or ask your local precinct to contact 'rotation tow'. Any fees charged for towing will have to be paid by the vehicle owner. 311 will have additional information in 8 hours. Please note your service request number for future reference.       257\n",
       "Your complaint has been received by the Police Department and additional information will be available later.                                                                                                                                                                                                                                                                                                                                                                                                            253\n",
       "Your complaint has been received by the Police Department and it has been determined that a long-term investigation may be necessary.  Additional information will be available at the conclusion of the investigation.                                                                                                                                                                                                                                                                                                    7\n",
       "The New York City Police Department received your comments and forwarded them to the appropriate unit for resolution. You may follow up by calling (646) 610-6952 after 60 days from submitting your agency issue.                                                                                                                                                                                                                                                                                                         3\n",
       "The Department of Parks and Recreation usually requires 14 days to respond to this type of complaint. Please note your Service Request number for future reference.                                                                                                                                                                                                                                                                                                                                                        2\n",
       "The agency received your comments and addressed the issue according to agency procedures.                                                                                                                                                                                                                                                                                                                                                                                                                                  1\n",
       "The Department of Transportation inspected the condition you reported. You can find additional information in the \"Notes to Customer\" field.                                                                                                                                                                                                                                                                                                                                                                               1\n",
       "The Department of Parks and Recreation performed the work necessary to correct the condition.                                                                                                                                                                                                                                                                                                                                                                                                                              1\n",
       "The Department of Transportation requires 30 days to respond to this type of request. Please note your Service Request number for future reference.                                                                                                                                                                                                                                                                                                                                                                        1\n",
       "Name: Resolution Description, dtype: int64"
      ]
     },
     "execution_count": 6,
     "metadata": {},
     "output_type": "execute_result"
    }
   ],
   "source": [
    "pd_calls['Resolution Description'].value_counts()"
   ]
  },
  {
   "cell_type": "code",
   "execution_count": 7,
   "metadata": {
    "collapsed": true
   },
   "outputs": [],
   "source": [
    "action_taken_coding = [False, True, False, False, True, np.nan, False, False, False, False, True, True, np.nan, np.nan, True,\n",
    "                       np.nan, True, True, True, np.nan]\n",
    "action_taken_map = {a: b for a, b in zip(pd_calls['Resolution Description'].value_counts().index, action_taken_coding)}"
   ]
  },
  {
   "cell_type": "code",
   "execution_count": 9,
   "metadata": {
    "collapsed": false
   },
   "outputs": [
    {
     "name": "stderr",
     "output_type": "stream",
     "text": [
      "C:\\Users\\Alex\\Anaconda3\\envs\\311\\lib\\site-packages\\ipykernel\\__main__.py:1: SettingWithCopyWarning: \n",
      "A value is trying to be set on a copy of a slice from a DataFrame.\n",
      "Try using .loc[row_indexer,col_indexer] = value instead\n",
      "\n",
      "See the caveats in the documentation: http://pandas.pydata.org/pandas-docs/stable/indexing.html#indexing-view-versus-copy\n",
      "  if __name__ == '__main__':\n"
     ]
    }
   ],
   "source": [
    "pd_calls['Action Taken'] = pd_calls['Resolution Description'].map(action_taken_map)"
   ]
  },
  {
   "cell_type": "code",
   "execution_count": 84,
   "metadata": {
    "collapsed": true
   },
   "outputs": [],
   "source": [
    "i = -1"
   ]
  },
  {
   "cell_type": "code",
   "execution_count": 105,
   "metadata": {
    "collapsed": false,
    "scrolled": true
   },
   "outputs": [
    {
     "name": "stdout",
     "output_type": "stream",
     "text": [
      "20\n"
     ]
    },
    {
     "data": {
      "text/plain": [
       "'The Department of Transportation requires 30 days to respond to this type of request. Please note your Service Request number for future reference.'"
      ]
     },
     "execution_count": 105,
     "metadata": {},
     "output_type": "execute_result"
    }
   ],
   "source": [
    "i += 1\n",
    "print(i)\n",
    "pd_calls['Resolution Description'].value_counts().index[i]"
   ]
  },
  {
   "cell_type": "code",
   "execution_count": 106,
   "metadata": {
    "collapsed": true
   },
   "outputs": [],
   "source": [
    "last_action_coding = ['No Violation', 'Took Action', 'Perpetrators Gone', 'No Violation', 'Issued Summons',\n",
    "                      'Provided Additional Information', 'Unable to Gain Entry', 'Insufficient Contact Information',\n",
    "                      'Out of Juristiction', 'Forwarded for Non-Emergency Response', 'Report Prepared',\n",
    "                      'Arrest Made', 'Forwarded for Non-Emergency Response', 'Complaint Recieved',\n",
    "                      'Long-Term Investigation', 'Complaint Recieved', np.nan, 'Took Action',\n",
    "                      'Provided Additional Information', 'Took Action', 'Forwarded for Non-Emergency Response']\n",
    "action_map = {a: b for a, b in zip(pd_calls['Resolution Description'].value_counts().index, last_action_coding)}"
   ]
  },
  {
   "cell_type": "code",
   "execution_count": 107,
   "metadata": {
    "collapsed": false
   },
   "outputs": [
    {
     "name": "stderr",
     "output_type": "stream",
     "text": [
      "C:\\Users\\Alex\\Anaconda3\\envs\\311\\lib\\site-packages\\ipykernel\\__main__.py:1: SettingWithCopyWarning: \n",
      "A value is trying to be set on a copy of a slice from a DataFrame.\n",
      "Try using .loc[row_indexer,col_indexer] = value instead\n",
      "\n",
      "See the caveats in the documentation: http://pandas.pydata.org/pandas-docs/stable/indexing.html#indexing-view-versus-copy\n",
      "  if __name__ == '__main__':\n"
     ]
    }
   ],
   "source": [
    "pd_calls['Last Action'] =  pd_calls['Resolution Description'].map(action_map)"
   ]
  },
  {
   "cell_type": "code",
   "execution_count": 109,
   "metadata": {
    "collapsed": false
   },
   "outputs": [
    {
     "data": {
      "text/plain": [
       "Took Action                145418\n",
       "Issued Summons              39773\n",
       "Report Prepared               284\n",
       "Arrest Made                   257\n",
       "Long-Term Investigation         3\n",
       "Name: Last Action, dtype: int64"
      ]
     },
     "execution_count": 109,
     "metadata": {},
     "output_type": "execute_result"
    }
   ],
   "source": [
    "pd_calls['Last Action'].value_counts()"
   ]
  },
  {
   "cell_type": "code",
   "execution_count": null,
   "metadata": {
    "collapsed": true
   },
   "outputs": [],
   "source": []
  }
 ],
 "metadata": {
  "anaconda-cloud": {},
  "kernelspec": {
   "display_name": "Python [conda env:311]",
   "language": "python",
   "name": "conda-env-311-py"
  },
  "language_info": {
   "codemirror_mode": {
    "name": "ipython",
    "version": 3
   },
   "file_extension": ".py",
   "mimetype": "text/x-python",
   "name": "python",
   "nbconvert_exporter": "python",
   "pygments_lexer": "ipython3",
   "version": "3.5.2"
  }
 },
 "nbformat": 4,
 "nbformat_minor": 2
}
